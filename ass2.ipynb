{
 "cells": [
  {
   "cell_type": "markdown",
   "id": "55edd883",
   "metadata": {
    "deletable": false,
    "editable": false,
    "nbgrader": {
     "cell_type": "markdown",
     "checksum": "2061d45c0291a5b0a26a8ad8e40f5a3d",
     "grade": false,
     "grade_id": "cell-a4f047a3e4ff2bfe",
     "locked": true,
     "schema_version": 3,
     "solution": false,
     "task": false
    }
   },
   "source": [
    "## Assignment 2"
   ]
  },
  {
   "cell_type": "code",
   "execution_count": 1,
   "id": "a9c78adb",
   "metadata": {
    "deletable": false,
    "editable": false,
    "nbgrader": {
     "cell_type": "code",
     "checksum": "143771fb5b733d7133de632730500a98",
     "grade": false,
     "grade_id": "cell-a13728c50ed34d97",
     "locked": true,
     "schema_version": 3,
     "solution": false,
     "task": false
    }
   },
   "outputs": [],
   "source": [
    "# Import necessary libraries\n",
    "import random\n",
    "import pandas as pd\n",
    "import numpy as np\n",
    "import matplotlib.pyplot as plt\n",
    "import numdifftools as nd\n",
    "from scipy import linalg\n",
    "import scipy.optimize as spo\n",
    "random.seed(1)\n"
   ]
  },
  {
   "cell_type": "markdown",
   "id": "52a2b5b7",
   "metadata": {
    "deletable": false,
    "editable": false,
    "nbgrader": {
     "cell_type": "markdown",
     "checksum": "814c2923cbddd0fa5cee4c1265a88c49",
     "grade": false,
     "grade_id": "cell-f1bc0815e92db285",
     "locked": true,
     "schema_version": 3,
     "solution": false,
     "task": false
    }
   },
   "source": [
    "The formula for the logistic function $\\sigma:\\mathbb{R}\\times \\mathbb{R}^2\\rightarrow \\mathbb{R}$ is the following:\n",
    "$$\\sigma(x,\\beta_1,\\beta_2)=\\frac{1}{1+e^{-\\beta_1(x-\\beta_2)}}\n",
    "$$\n",
    "Here $\\beta_1$ and $\\beta_2$ are two positive constants:\n",
    "* $\\beta_1$: controls the curve's steepness,\n",
    "* $\\beta_2$: slides the curve on the x-axis.\n",
    "\n"
   ]
  },
  {
   "cell_type": "code",
   "execution_count": 2,
   "id": "3d061a0e",
   "metadata": {
    "deletable": false,
    "nbgrader": {
     "cell_type": "code",
     "checksum": "344163e04a99f1a41ed002ac4116ba0c",
     "grade": false,
     "grade_id": "cell-b950adfbc5354e4c",
     "locked": false,
     "schema_version": 3,
     "solution": true,
     "task": false
    }
   },
   "outputs": [],
   "source": [
    "#### GRADED EXERCISE\n",
    "# Define the function sigma\n",
    "# input (x,beta_1,beta_2)\n",
    "# output value of the corresponding logistic function\n",
    "\n",
    "\n",
    "def sigma(x,beta_1,beta_2):\n",
    "    # YOUR CODE HERE\n",
    "    return 1/(1+np.exp(-beta_1*(x-beta_2)))\n"
   ]
  },
  {
   "cell_type": "markdown",
   "id": "c07f6f26",
   "metadata": {
    "deletable": false,
    "editable": false,
    "nbgrader": {
     "cell_type": "markdown",
     "checksum": "cd9b568d6d57763f2b4ecc82c5196a3a",
     "grade": false,
     "grade_id": "cell-6e358b5d5e959c4f",
     "locked": true,
     "schema_version": 3,
     "solution": false,
     "task": false
    }
   },
   "source": [
    "Test your function. Try to calculate <code>sigma(2,1,1)</code>. This should have value 0.7310585786300049."
   ]
  },
  {
   "cell_type": "code",
   "execution_count": 3,
   "id": "91465520",
   "metadata": {
    "deletable": false,
    "editable": false,
    "nbgrader": {
     "cell_type": "code",
     "checksum": "530f35c00e73a7a64fdb745905ff20db",
     "grade": true,
     "grade_id": "cell-0905b22ebc2409d1",
     "locked": true,
     "points": 1,
     "schema_version": 3,
     "solution": false,
     "task": false
    }
   },
   "outputs": [],
   "source": [
    "assert(np.allclose(sigma(2,1,1),0.7310585786300049))\n"
   ]
  },
  {
   "cell_type": "code",
   "execution_count": 4,
   "id": "79280cc3",
   "metadata": {
    "deletable": false,
    "editable": false,
    "nbgrader": {
     "cell_type": "code",
     "checksum": "b2a8f7e35ca5be10ce7defd4c36aa24f",
     "grade": false,
     "grade_id": "cell-b2e80da84899871a",
     "locked": true,
     "schema_version": 3,
     "solution": false,
     "task": false
    }
   },
   "outputs": [
    {
     "data": {
      "image/png": "[encoded data removed]",
      "text/plain": [
       "<Figure size 432x288 with 1 Axes>"
      ]
     },
     "metadata": {
      "needs_background": "light"
     },
     "output_type": "display_data"
    }
   ],
   "source": [
    "xvalues = np.linspace(-10,10,100)\n",
    "yvalues = sigma(xvalues,1,1)\n",
    "\n",
    "plt.plot(xvalues,yvalues)\n",
    "\n",
    "plt.ylabel('$\\sigma(x,1,1)$')\n",
    "plt.xlabel('$x$')\n",
    "plt.show()\n",
    "\n"
   ]
  },
  {
   "cell_type": "markdown",
   "id": "f81d4abf",
   "metadata": {
    "deletable": false,
    "editable": false,
    "nbgrader": {
     "cell_type": "markdown",
     "checksum": "ac20cdc160b9ad706d641d20ec30312e",
     "grade": false,
     "grade_id": "cell-08cc216e95d66107",
     "locked": true,
     "schema_version": 3,
     "solution": false,
     "task": false
    }
   },
   "source": [
    "So -- if you did well -- here is the graph of your logistic function for given $\\beta=(1,1)$. You may also experiment with other values of $\\beta_1,\\beta_2$. \n",
    "\n",
    "Now consider the following situation. We know that the functional relationship between $x$ and $y$ is given by the logistic function $\\sigma$, but we don't know the true $\\beta_1$ and $\\beta_2$. And what is even more disturbing, is that for given inputs $x$ we are given only inaccurate measurements $\\sigma(x,\\beta_1,\\beta_2)$. This means that instead of $\\sigma(x,\\beta_1,\\beta_2)$ we are given $\\sigma(x,\\beta_1,\\beta_2)+\\epsilon$ where $\\epsilon$ is some random noise term. \n",
    "\n",
    "Find below the relevant data of $(x,y)$ values as summarized by <code>xdata</code> and <code>ydata</code>. These are lists. "
   ]
  },
  {
   "cell_type": "code",
   "execution_count": 5,
   "id": "14063153",
   "metadata": {},
   "outputs": [],
   "source": [
    "xdata=[ 0.26317961,  1.11033334,  2.16854045,  3.5879149 ,  7.39188879,\n",
    "        8.27959386,  9.68184107, 11.00765078, 11.21504832, 14.12793326,\n",
    "       15.57773256, 15.65724246, 16.84769716, 18.02335252, 19.13588775,\n",
    "       20.43868663, 20.77180401, 21.29145905, 21.41469248, 21.43979042,\n",
    "       24.97597543, 25.5751027 , 26.48366552, 27.20930143, 28.24374732,\n",
    "       28.69837527, 29.1895221 , 30.44852441, 30.55106613, 30.71421093,\n",
    "       30.75885892, 31.49290224, 31.53961788, 31.56541318, 31.96907739,\n",
    "       36.36844079, 36.68593186, 38.49091299, 42.46127101, 42.83352138,\n",
    "       43.65627717, 43.95391022, 44.59528147, 45.34353145, 48.98077847,\n",
    "       49.15571848, 49.74482786, 52.90872105, 52.96573206, 54.11208861,\n",
    "       54.75745599, 55.65916591, 56.5631469 , 57.13211501, 57.36438576,\n",
    "       57.42833544, 61.06325169, 61.23223387, 62.41797233, 63.89478204,\n",
    "       64.60907215, 65.26929143, 66.0839139 , 66.68079951, 66.97748063,\n",
    "       68.49239969, 69.51520647, 70.6949448 , 71.87750528, 72.92466144,\n",
    "       74.0781813 , 75.46696745, 75.57428558, 77.11523333, 77.62057875,\n",
    "       77.74794312, 77.83262187, 79.34846742, 83.61762231, 83.88448342,\n",
    "       84.18980078, 84.21791189, 85.29698498, 86.24863997, 87.67770399,\n",
    "       88.381759  , 92.06755978, 93.54270123, 93.85506543, 94.08474199,\n",
    "       95.20910857, 96.0797306 , 96.76088975, 97.07501481, 97.20206218,\n",
    "       97.74555644, 98.11085631, 98.88218847, 99.32367845, 99.55772118]\n",
    "ydata=[-0.09197075,  0.16945457,  0.0316387 , -0.0618261 , -0.04837132,\n",
    "        0.37409854,  0.13413935, -0.16348046, -0.04569984,  0.07270785,\n",
    "       -0.02689079,  0.11457851,  0.17738681,  0.0021241 ,  0.03138301,\n",
    "       -0.01404679,  0.09139474,  0.15363093,  0.09721446, -0.10449441,\n",
    "        0.08634521, -0.04484647,  0.19187795,  0.06872728,  0.13437   ,\n",
    "        0.03048814,  0.03434026,  0.0969663 ,  0.05239851,  0.21599121,\n",
    "       -0.05538246,  0.14082521,  0.01456304,  0.15986058, -0.09724358,\n",
    "        0.38033114,  0.23914239,  0.26534549,  0.74831022,  0.68140129,\n",
    "        0.77738953,  0.88884679,  0.6896445 ,  0.75880784,  0.94472623,\n",
    "        0.99647913,  0.87863198,  0.90030558,  1.05709231,  1.08407139,\n",
    "        1.12792092,  0.96145305,  0.73487401,  1.04651333,  1.07055751,\n",
    "        0.84798472,  1.00723948,  1.02582103,  1.03283688,  0.95276062,\n",
    "        1.0077218 ,  1.05952955,  0.82198327,  1.09077431,  0.96311083,\n",
    "        1.07625626,  0.92959526,  0.82872334,  1.11804361,  1.1640623 ,\n",
    "        0.81391062,  0.8707484 ,  1.00939414,  0.89504937,  1.07601263,\n",
    "        0.92028154,  0.94823018,  1.02113603,  0.78217541,  0.96800583,\n",
    "        1.20146314,  1.05868674,  0.90008779,  1.10460057,  1.20631793,\n",
    "        1.12746635,  0.94153875,  0.93424028,  0.96295222,  0.89509457,\n",
    "        1.00292152,  0.89943102,  0.91247602,  1.03208184,  0.94363776,\n",
    "        0.97956149,  1.2148178 ,  1.03682193,  1.1190323 ,  1.0437918 ]\n"
   ]
  },
  {
   "cell_type": "markdown",
   "id": "83c429b0",
   "metadata": {
    "deletable": false,
    "editable": false,
    "nbgrader": {
     "cell_type": "markdown",
     "checksum": "c24301064e4187f2c9874ad36d8f632c",
     "grade": false,
     "grade_id": "cell-981de0daaa90d86c",
     "locked": true,
     "schema_version": 3,
     "solution": false,
     "task": false
    }
   },
   "source": [
    "Plot <code>xdata</code> versus <code>ydata</code> to get an idea for what kind of relationship we are looking for. "
   ]
  },
  {
   "cell_type": "code",
   "execution_count": 6,
   "id": "505f2298",
   "metadata": {
    "deletable": false,
    "editable": false,
    "nbgrader": {
     "cell_type": "code",
     "checksum": "3c0df569065db9fdd78c76bb12ba91be",
     "grade": false,
     "grade_id": "cell-7d5e29aad06b60fa",
     "locked": true,
     "schema_version": 3,
     "solution": false,
     "task": false
    }
   },
   "outputs": [
    {
     "data": {
      "image/png": "[encoded data removed]",
      "text/plain": [
       "<Figure size 432x288 with 1 Axes>"
      ]
     },
     "metadata": {
      "needs_background": "light"
     },
     "output_type": "display_data"
    }
   ],
   "source": [
    "plt.plot(xdata, ydata, 'ro', alpha=1)\n",
    "plt.grid()\n",
    "plt.show()\n"
   ]
  },
  {
   "cell_type": "markdown",
   "id": "4e4baf55",
   "metadata": {
    "deletable": false,
    "editable": false,
    "nbgrader": {
     "cell_type": "markdown",
     "checksum": "a71bf43cd708cdeeed86a96573f22be2",
     "grade": false,
     "grade_id": "cell-254a0c2907ce4670",
     "locked": true,
     "schema_version": 3,
     "solution": false,
     "task": false
    }
   },
   "source": [
    "So here each dot is a data point, a combination of $x$ together with a measurement of the corresponding $\\sigma(x,\\beta_1,\\beta_2)$. Conclude that these measurements can not be 100% accurate. \n",
    "\n",
    "Below we will try to find estimates of $\\beta_1,\\beta_2$ to find an estimate $\\hat{\\sigma}$ for $\\sigma$. \n",
    "The available data are the 100 data points of type $(x_i,\\sigma(x_i,\\beta_1,\\beta_2)+\\epsilon_i)$ that were used to create the above plot. So for $x$ values, the corresponding $y$ value is a function value $\\sigma(x,\\beta_1,\\beta_2)$ plus noise. "
   ]
  },
  {
   "cell_type": "markdown",
   "id": "53b1f90d",
   "metadata": {
    "deletable": false,
    "editable": false,
    "nbgrader": {
     "cell_type": "markdown",
     "checksum": "d0ef76f49083277a6e77523589f060f9",
     "grade": false,
     "grade_id": "cell-f2e281ad0622fcaf",
     "locked": true,
     "schema_version": 3,
     "solution": false,
     "task": false
    }
   },
   "source": [
    "We will now try to find the values of the parameters $\\beta_1,\\beta_2)$ that fit the data best. In order to do so we need to solve an optimization problem.\n",
    "\n",
    "Although we may define 'best' approximations in very different ways (see written Assignment 1), we here aim at minimizing the cost function \n",
    "\n",
    "$$C(\\beta,X,Y)=\\Vert Y-\\sigma(X,\\beta)\\Vert^2 \n",
    "$$\n",
    "\n",
    "for the values in a data set $(X,Y)$. Note that here $\\sigma(X)$ denotes a vector $(\\sigma(x_1,\\beta) \\cdots \\sigma(x_m,\\beta))$ if $X=(x_1 \\cdots x_m)$.\n",
    "For the given data set with input values $X_{data}$ and corresponding function values $Y_{data}$, the relevant function becomes\n",
    "  \n",
    "\n",
    "$$\\mathcal{L}(\\beta)=\\Vert Y_{data}-\\sigma(X_{data},\\beta)\\Vert^2, \n",
    "$$\n",
    "\n",
    "where $\\sigma(\\cdot,\\beta)$ is applied to each coordinate in $X_{data}$.\n",
    "\n"
   ]
  },
  {
   "cell_type": "code",
   "execution_count": 7,
   "id": "5355cacc",
   "metadata": {
    "deletable": false,
    "nbgrader": {
     "cell_type": "code",
     "checksum": "2f3756916b198665fd18800b5eb176b3",
     "grade": false,
     "grade_id": "cell-e747e59b5f2de64c",
     "locked": false,
     "schema_version": 3,
     "solution": true,
     "task": false
    }
   },
   "outputs": [],
   "source": [
    "## Graded Exercise\n",
    "# Transform xdata to np.array X_data and ydata to np.array Y_data\n",
    "\n",
    "# YOUR CODE HERE\n",
    "X_data=np.array(xdata)\n",
    "Y_data=np.array(ydata)"
   ]
  },
  {
   "cell_type": "markdown",
   "id": "015e5f76",
   "metadata": {
    "deletable": false,
    "editable": false,
    "nbgrader": {
     "cell_type": "markdown",
     "checksum": "7f4226c180aea14cc416ccfd31ffe6d0",
     "grade": false,
     "grade_id": "cell-282ca8141b79ce77",
     "locked": true,
     "schema_version": 3,
     "solution": false,
     "task": false
    }
   },
   "source": [
    "Make sure you have the right types! "
   ]
  },
  {
   "cell_type": "code",
   "execution_count": 8,
   "id": "b22f834a",
   "metadata": {
    "deletable": false,
    "nbgrader": {
     "cell_type": "code",
     "checksum": "c1ed7e649452ecc994394fff7d9ba01f",
     "grade": false,
     "grade_id": "cell-eb7479fa9de469eb",
     "locked": false,
     "schema_version": 3,
     "solution": true,
     "task": false
    }
   },
   "outputs": [],
   "source": [
    "# GRADED EXERCISE: define cost function\n",
    "\n",
    "\n",
    "## Function ###\n",
    "# Define function 'cost'\n",
    "# cost(beta_param,x,y):\n",
    "# input: beta_param (2,) vector\n",
    "#        x numpy array, (m,) vector\n",
    "#        y numpy array, (m,) vector\n",
    "# output: the quantity specified in the explanation\n",
    "def cost(beta_param,x=X_data,y=Y_data):\n",
    "    # YOUR CODE HERE\n",
    "    return linalg.norm(y-sigma(x,beta_param[0],beta_param[1]))**2\n"
   ]
  },
  {
   "cell_type": "markdown",
   "id": "9cb92b00",
   "metadata": {},
   "source": [
    "Check your function. For parameters $\\beta=(1,1)$ and the given data, you should obtain a cost of 355492.73824173457. "
   ]
  },
  {
   "cell_type": "code",
   "execution_count": 9,
   "id": "5eab4958",
   "metadata": {
    "deletable": false,
    "editable": false,
    "nbgrader": {
     "cell_type": "code",
     "checksum": "74f75d40a9a21247d5091fa38053dedb",
     "grade": true,
     "grade_id": "cell-7f04a1ec43517625",
     "locked": true,
     "points": 1,
     "schema_version": 3,
     "solution": false,
     "task": false
    }
   },
   "outputs": [
    {
     "data": {
      "text/plain": [
       "32.07242082445513"
      ]
     },
     "execution_count": 9,
     "metadata": {},
     "output_type": "execute_result"
    }
   ],
   "source": [
    "'''Test-cell'''\n",
    "cost(beta_param=[1,1],x=X_data,y=Y_data)"
   ]
  },
  {
   "cell_type": "markdown",
   "id": "9e06a9f0",
   "metadata": {},
   "source": [
    "A: The provided answer is wrong."
   ]
  },
  {
   "cell_type": "code",
   "execution_count": 10,
   "id": "181b0fef",
   "metadata": {
    "deletable": false,
    "nbgrader": {
     "cell_type": "code",
     "checksum": "d8902e323d5ca50556ed686704a3f351",
     "grade": false,
     "grade_id": "cell-fee32148ab55f6e3",
     "locked": false,
     "schema_version": 3,
     "solution": true,
     "task": false
    }
   },
   "outputs": [],
   "source": [
    "# GRADED EXERCISE: define loss function\n",
    "# Define function loss(beta_param)\n",
    "# input vector beta_param with beta_1, beta_2 as coordinates\n",
    "# output the total loss at the values\n",
    "\n",
    "# YOUR CODE HERE\n",
    "def loss(beta_param):\n",
    "    # YOUR CODE HERE\n",
    "    return linalg.norm(Y_data-sigma(X_data,beta_param[0],beta_param[1]))**2\n"
   ]
  },
  {
   "cell_type": "markdown",
   "id": "b7588ddf",
   "metadata": {
    "deletable": false,
    "editable": false,
    "nbgrader": {
     "cell_type": "markdown",
     "checksum": "047c48887914adc0e5cd0ed9e5187b03",
     "grade": false,
     "grade_id": "cell-e1ffeecb8e5327f3",
     "locked": true,
     "schema_version": 3,
     "solution": false,
     "task": false
    }
   },
   "source": [
    "Check your function. At $\\beta=(1,2)$ your loss should be around 31.37."
   ]
  },
  {
   "cell_type": "code",
   "execution_count": 119,
   "id": "338e4f9a",
   "metadata": {},
   "outputs": [
    {
     "name": "stdout",
     "output_type": "stream",
     "text": [
      "48 µs ± 11.9 µs per loop (mean ± std. dev. of 7 runs, 10,000 loops each)\n"
     ]
    }
   ],
   "source": [
    "loss([1,2])"
   ]
  },
  {
   "cell_type": "markdown",
   "id": "53799ef8",
   "metadata": {},
   "source": [
    "A: Yes, if you round to 2 d.p. it is the same.\n"
   ]
  },
  {
   "cell_type": "code",
   "execution_count": 52,
   "id": "d5b5f402",
   "metadata": {
    "deletable": false,
    "nbgrader": {
     "cell_type": "code",
     "checksum": "ff9480878c8fd16606651defd4fb5398",
     "grade": false,
     "grade_id": "cell-e2f4597c95586939",
     "locked": false,
     "schema_version": 3,
     "solution": true,
     "task": false
    }
   },
   "outputs": [],
   "source": [
    "# GRADED EXERCISE: find the optimal values for beta\n",
    "\n",
    "## Use scipy.minimize to optimize the loss function\n",
    "# input: loss, use starting point [1,2]\n",
    "# output: 'result' which is the scipy.minimize object\n",
    "# output: 'beta_opt' (2,) vector of optimal values for beta_1,beta_2\n",
    "\n",
    "# YOUR CODE HERE\n",
    "result=spo.minimize(loss,[1,2],method=\"BFGS\")\n",
    "beta_opt=result.x\n"
   ]
  },
  {
   "cell_type": "code",
   "execution_count": 46,
   "id": "6490786f",
   "metadata": {
    "deletable": false,
    "editable": false,
    "nbgrader": {
     "cell_type": "code",
     "checksum": "055b3e181f7f925ba5e30251b8cd2815",
     "grade": true,
     "grade_id": "cell-8461c044e868216f",
     "locked": true,
     "points": 1,
     "schema_version": 3,
     "solution": false,
     "task": false
    }
   },
   "outputs": [
    {
     "data": {
      "text/plain": [
       "array([ 0.28322607, 39.91174358])"
      ]
     },
     "execution_count": 46,
     "metadata": {},
     "output_type": "execute_result"
    }
   ],
   "source": [
    "beta_opt"
   ]
  },
  {
   "cell_type": "code",
   "execution_count": 50,
   "id": "f1f7ee71",
   "metadata": {
    "deletable": false,
    "editable": false,
    "nbgrader": {
     "cell_type": "code",
     "checksum": "f3a4ec7dcfbf26b9334241d253f49796",
     "grade": true,
     "grade_id": "cell-c411aa7d31cd3b0a",
     "locked": true,
     "points": 1,
     "schema_version": 3,
     "solution": false,
     "task": false
    }
   },
   "outputs": [
    {
     "data": {
      "image/png": "[encoded data removed]",
      "text/plain": [
       "<Figure size 432x288 with 1 Axes>"
      ]
     },
     "metadata": {
      "needs_background": "light"
     },
     "output_type": "display_data"
    }
   ],
   "source": [
    "plt.plot(xdata,ydata,\"ro\",alpha=1)\n",
    "plt.plot(X_data,sigma(X_data,beta_opt[0],beta_opt[1]))\n",
    "plt.show();\n"
   ]
  },
  {
   "attachments": {
    "image.png": {
     "image/png": "[encoded data removed]"
    }
   },
   "cell_type": "markdown",
   "id": "ed5fbf04",
   "metadata": {
    "deletable": false,
    "editable": false,
    "nbgrader": {
     "cell_type": "markdown",
     "checksum": "c79ab9dd9f9f21b9a83ded10d32290b4",
     "grade": false,
     "grade_id": "cell-1a1be2282630e299",
     "locked": true,
     "schema_version": 3,
     "solution": false,
     "task": false
    }
   },
   "source": [
    "Check your solution. If you plot your estimated function with the data, do you get something like this?\n",
    "\n",
    "![image.png](attachment:image.png)"
   ]
  },
  {
   "cell_type": "markdown",
   "id": "1b4b0fbe",
   "metadata": {
    "deletable": false,
    "editable": false,
    "nbgrader": {
     "cell_type": "markdown",
     "checksum": "790e6435c824961608c8cbf3642d3c9f",
     "grade": false,
     "grade_id": "cell-e62877c8fd71d4ab",
     "locked": true,
     "schema_version": 3,
     "solution": false,
     "task": false
    }
   },
   "source": [
    "Now we will calculate the Hessian matrix $H\\mathcal{L}$ at the solution you found to guarantee that indeed it minimizes loss. \n",
    "\n",
    "* Use <code> numdifftools </code> to evaluate the Hessian at the solution. \n",
    "* Use <code> np.linalg </code> to find the eigenvalues\n"
   ]
  },
  {
   "cell_type": "code",
   "execution_count": 53,
   "id": "d2f13c46",
   "metadata": {
    "deletable": false,
    "nbgrader": {
     "cell_type": "code",
     "checksum": "5ab661446aec7cc95c368d31e2c89519",
     "grade": false,
     "grade_id": "cell-e552fd7969ebaa45",
     "locked": false,
     "schema_version": 3,
     "solution": true,
     "task": false
    }
   },
   "outputs": [
    {
     "name": "stdout",
     "output_type": "stream",
     "text": [
      "Gradient:\n",
      " [-1.33255837e-07  5.06910229e-10]\n",
      "Hessian:\n",
      " [[16.11294024 -0.1221102 ]\n",
      " [-0.1221102   0.066981  ]]\n"
     ]
    }
   ],
   "source": [
    "# GRADED EXERCISE: check the Hessian at optimum\n",
    "\n",
    "# Calculate the gradient and Hessian H at beta_opt.\n",
    "# grad = \n",
    "# H =\n",
    "\n",
    "# YOUR CODE HERE\n",
    "grad=nd.Gradient(loss)(beta_opt)\n",
    "print(\"Gradient:\\n\",grad)\n",
    "H=nd.Hessian(loss)(beta_opt)\n",
    "print(\"Hessian:\\n\",H)\n"
   ]
  },
  {
   "cell_type": "code",
   "execution_count": 150,
   "id": "dd21bea4",
   "metadata": {
    "deletable": false,
    "nbgrader": {
     "cell_type": "code",
     "checksum": "a00435ff0f41e3563672c122b7b409a7",
     "grade": false,
     "grade_id": "cell-76abdc6a6727f194",
     "locked": false,
     "schema_version": 3,
     "solution": true,
     "task": false
    }
   },
   "outputs": [
    {
     "data": {
      "text/plain": [
       "'pos def'"
      ]
     },
     "execution_count": 150,
     "metadata": {},
     "output_type": "execute_result"
    }
   ],
   "source": [
    "## GRADED EXERCISE\n",
    "\n",
    "# Calculate the eigenvalues of H\n",
    "#     eig =\n",
    "# Characterize type of H\n",
    "#     type = 'pos def' if positive definite\n",
    "#     type = 'neg def' if negative definite\n",
    "#     type = 'indefinite' if indefinite\n",
    "\n",
    "# YOUR CODE HERE\n",
    "eig=np.linalg.eigvals(H)\n",
    "signs=2*(eig>0)+(eig==0)-1\n",
    "[\"neg def\",\"indefinite\",\"indefinite\",\"indefinite\",\"pos def\"][int(2+np.sum(signs))]\n",
    "#the more I think about it the more I start to doubt whether it will scale efficiently, but it is cool way to solve anyway\n"
   ]
  },
  {
   "cell_type": "code",
   "execution_count": 153,
   "id": "f5aad6f0",
   "metadata": {},
   "outputs": [],
   "source": [
    "#this is here to create a scaled environment of to check which is faster. Am I being stupid at this point? Maybe...\n",
    "eig=np.random.normal(0,1,1000000)"
   ]
  },
  {
   "cell_type": "code",
   "execution_count": 154,
   "id": "1fd413a6",
   "metadata": {},
   "outputs": [
    {
     "name": "stdout",
     "output_type": "stream",
     "text": [
      "12.4 ms ± 480 µs per loop (mean ± std. dev. of 7 runs, 100 loops each)\n"
     ]
    }
   ],
   "source": [
    "%%timeit\n",
    "#more scalable way to determine type \n",
    "#eig=np.linalg.eigvals(H)\n",
    "n=len(eig)\n",
    "signs=2*(eig>0)+(eig==0)-1\n",
    "if np.sum(signs)==n:\n",
    "    type2=\"pos def\"\n",
    "elif np.sum(signs)==-n:\n",
    "    type2=\"neg def\"\n",
    "else:\n",
    "   type2=\"indefinite\"\n",
    "type2\n",
    "#this works regardless of the dimension of the hessian"
   ]
  },
  {
   "cell_type": "code",
   "execution_count": 155,
   "id": "01fd7dfe",
   "metadata": {},
   "outputs": [
    {
     "name": "stdout",
     "output_type": "stream",
     "text": [
      "11.9 ms ± 450 µs per loop (mean ± std. dev. of 7 runs, 100 loops each)\n"
     ]
    }
   ],
   "source": [
    "%%timeit\n",
    "#eig=np.linalg.eigvals(H)\n",
    "#so we already have a pretty robust method, but let's make it more elegant\n",
    "indicator=np.sum(2*(eig>0)+(eig==0)-1)/len(eig)\n",
    "[\"\",\"pos def\",\"neg def\"][int(indicator)] if abs(indicator)==1 else \"indefinite\"\n",
    "#now, this is what I am talking about! It will work for all values and dimesions as long as they are real valued"
   ]
  },
  {
   "cell_type": "markdown",
   "id": "2596ec39",
   "metadata": {
    "deletable": false,
    "editable": false,
    "nbgrader": {
     "cell_type": "markdown",
     "checksum": "9ef58788dabf96708448d02ce5d1de98",
     "grade": false,
     "grade_id": "cell-966eac7de0dc02db",
     "locked": true,
     "schema_version": 3,
     "solution": false,
     "task": false
    }
   },
   "source": [
    "Now suppose that your friend gives you additional information bout $\\beta=(\\beta_1,\\beta_2)$, and that $\\beta_1,\\beta_2$ must be such that\n",
    "\n",
    "* $\\beta_1\\geq 1$\n",
    "* $\\Vert\\beta\\Vert^2\\leq 20$. \n",
    "\n",
    "Use <code>scipy.minimize</code> with starting point $\\beta=(1,2)$ to find the optimal $\\beta$ that minimizes the loss function subject to these constraints.  Use the 'SLSQP' solver. "
   ]
  },
  {
   "cell_type": "code",
   "execution_count": 157,
   "id": "4d513d06",
   "metadata": {
    "deletable": false,
    "nbgrader": {
     "cell_type": "code",
     "checksum": "7a31057e9667e20a2b7087e5ed034255",
     "grade": false,
     "grade_id": "cell-624a5809e503fd18",
     "locked": false,
     "schema_version": 3,
     "solution": true,
     "task": false
    }
   },
   "outputs": [
    {
     "name": "stdout",
     "output_type": "stream",
     "text": [
      "12.6 ms ± 1.83 ms per loop (mean ± std. dev. of 7 runs, 100 loops each)\n"
     ]
    }
   ],
   "source": [
    "%%timeit\n",
    "# GRADED EXERCISE: optimize given constraints on beta\n",
    "\n",
    "# Write code, such that you obtain (2,) vector 'beta_restrict_opt' as the solution\n",
    "#   write constraints as tuple 'cons'\n",
    "#       cons = \n",
    "# Return object 'result_restricted'\n",
    "#       result_restricted = \n",
    "# Get the optimal values\n",
    "#       beta_restrict_opt = \n",
    "\n",
    "# YOUR CODE HERE\n",
    "result_restriced=spo.minimize(loss,[1,2],method=\"SLSQP\",constraints=({\"fun\": lambda x: x[0]-1,\"type\":'ineq'},{\"fun\": lambda x:20-np.dot(x,x),\"type\":'ineq'}))\n",
    "beta_restrict_opt=result_restriced.x"
   ]
  },
  {
   "cell_type": "code",
   "execution_count": null,
   "id": "c8663bde",
   "metadata": {},
   "outputs": [],
   "source": [
    "#12.6 ms ± 1.83 ms per loop (mean ± std. dev. of 7 runs, 100 loops each)"
   ]
  },
  {
   "cell_type": "code",
   "execution_count": 42,
   "id": "0be9a249",
   "metadata": {
    "deletable": false,
    "editable": false,
    "nbgrader": {
     "cell_type": "code",
     "checksum": "4aa89e29b962da26fc1949d027e14456",
     "grade": true,
     "grade_id": "cell-40662db11af859e3",
     "locked": true,
     "points": 2,
     "schema_version": 3,
     "solution": false,
     "task": false
    }
   },
   "outputs": [
    {
     "data": {
      "text/plain": [
       "array([1.        , 4.35889895])"
      ]
     },
     "execution_count": 42,
     "metadata": {},
     "output_type": "execute_result"
    }
   ],
   "source": [
    "beta_restrict_opt"
   ]
  },
  {
   "cell_type": "code",
   "execution_count": 43,
   "id": "3db688ed",
   "metadata": {
    "deletable": false,
    "editable": false,
    "nbgrader": {
     "cell_type": "code",
     "checksum": "df2fc38d77e4fef989bef1d21da7f667",
     "grade": true,
     "grade_id": "cell-6d71be498444304f",
     "locked": true,
     "points": 0,
     "schema_version": 3,
     "solution": false,
     "task": false
    }
   },
   "outputs": [
    {
     "data": {
      "image/png": "[encoded data removed]",
      "text/plain": [
       "<Figure size 432x288 with 1 Axes>"
      ]
     },
     "metadata": {
      "needs_background": "light"
     },
     "output_type": "display_data"
    }
   ],
   "source": [
    "plt.plot(xdata,ydata,\"ro\",alpha=1)\n",
    "plt.plot(X_data,sigma(X_data,beta_restrict_opt[0],beta_restrict_opt[1]))\n",
    "plt.show();"
   ]
  },
  {
   "attachments": {
    "image.png": {
     "image/png": "[encoded data removed]"
    }
   },
   "cell_type": "markdown",
   "id": "451da81a",
   "metadata": {
    "deletable": false,
    "editable": false,
    "nbgrader": {
     "cell_type": "markdown",
     "checksum": "faf0599e6694ba716570e79517cab85c",
     "grade": false,
     "grade_id": "cell-a5bea8136e306e12",
     "locked": true,
     "schema_version": 3,
     "solution": false,
     "task": false
    }
   },
   "source": [
    "Q: Check your solution. Do you think your friend provided trustworthy information?\n",
    "\n",
    "A: No, maybe the friend meant just $\\Vert\\beta\\Vert\\leq 20$. Silly friend...\n",
    "\n",
    "![image.png](attachment:image.png)"
   ]
  }
 ],
 "metadata": {
  "kernelspec": {
   "display_name": "Python 3.9.12 ('base')",
   "language": "python",
   "name": "python3"
  },
  "language_info": {
   "codemirror_mode": {
    "name": "ipython",
    "version": 3
   },
   "file_extension": ".py",
   "mimetype": "text/x-python",
   "name": "python",
   "nbconvert_exporter": "python",
   "pygments_lexer": "ipython3",
   "version": "3.9.12"
  },
  "vscode": {
   "interpreter": {
    "hash": "b68ca19c0df0760c1787e20c3f0dd1e5f78c535cd246ff2eb4732394cfca7b12"
   }
  }
 },
 "nbformat": 4,
 "nbformat_minor": 5
}
