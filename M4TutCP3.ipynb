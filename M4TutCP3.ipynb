{
 "cells": [
  {
   "cell_type": "markdown",
   "id": "1241150c",
   "metadata": {
    "deletable": false,
    "editable": false,
    "nbgrader": {
     "cell_type": "markdown",
     "checksum": "6d9ba1105a9640be86289a80a882e884",
     "grade": false,
     "grade_id": "cell-11fe9228bf19bb06",
     "locked": true,
     "schema_version": 3,
     "solution": false,
     "task": false
    }
   },
   "source": [
    "# Tutorial 3: Spectral Theorem and unconstrained optimization\n",
    "\n",
    "Topics:\n",
    "* Use of <code> numdifftools </code>\n",
    "* Hessian matrices, definiteness criteria\n",
    "* eigenvalues\n",
    "* Solving for stationary points numerically\n"
   ]
  },
  {
   "cell_type": "markdown",
   "id": "def1ec76",
   "metadata": {
    "deletable": false,
    "editable": false,
    "nbgrader": {
     "cell_type": "markdown",
     "checksum": "240ef9f0ec742f6ecf001f9bb21abb4a",
     "grade": false,
     "grade_id": "cell-d95c8c3093b504c7",
     "locked": true,
     "schema_version": 3,
     "solution": false,
     "task": false
    }
   },
   "source": [
    "## Spectral Theorem and definiteness check\n",
    "### Exercise: Write code to calculate leading principle minors\n",
    "\n",
    "Define a function <code>LPM()</code> that takes an $m\\times m$ matrix $A$ as input and returns a vector with all its leading principle minors $A^{(i)}$ for $i=1\\ldots m$ and a vector with the related signs. So:\n",
    "\n",
    "* input $m\\times m$ matrix $A$\n",
    "* output 1: vector of leading principle minors $A^{(i)}$ for $i=1,\\ldots,m$\n",
    "* output 2: sign vector, with +1,-1,0 indicating positive, negative and zero leading principle minor\n",
    "\n",
    "As an example, for <code>A=np.array([[1,2],[3,4]])</code> we calculate <code>LPM(A)</code> which delivers the pair <code>array([1.,-2.])</code> and corresponding sign vector <code>[1,-1]</code>.\n",
    "\n",
    "The sign vector may be compared with known patterns to classify positive definite, negative definite and indefinite matrices. Also, when zeroes arise, we should have a look at all principle minors. This requires a different setup for the algorithm"
   ]
  },
  {
   "cell_type": "code",
   "execution_count": 6,
   "id": "7a9fe5d5",
   "metadata": {
    "deletable": false,
    "nbgrader": {
     "cell_type": "code",
     "checksum": "b6d8ccf3240d9cd886c05c2fc52b0cc9",
     "grade": false,
     "grade_id": "cell-d629fbc3e5bb37bf",
     "locked": false,
     "schema_version": 3,
     "solution": true,
     "task": false
    }
   },
   "outputs": [],
   "source": [
    "import numpy as np\n",
    "import math\n",
    "import numpy.linalg as la\n",
    "\n",
    "\n",
    "# Define LPM(A)\n",
    "# input:   square mxm matrix A as np.array\n",
    "# output:  dets, (m,) array containing leading principle minors\n",
    "#          signs, (m,) array with signs of the leading principle minors (np.sign?)\n",
    "\n",
    "def LPM(A):\n",
    "    '''Calculates the array of leading principle minors, and the array of signs'''\n",
    "    # YOUR CODE HERE\n",
    "    n=A.shape[0]\n",
    "    dets=[]\n",
    "    for i in range(1,n+1):\n",
    "        dets.append(la.det(A[:i,:i]))\n",
    "    signs= np.sign(dets)\n",
    "    return dets, signs\n",
    "    "
   ]
  },
  {
   "cell_type": "markdown",
   "id": "86931163",
   "metadata": {
    "deletable": false,
    "editable": false,
    "nbgrader": {
     "cell_type": "markdown",
     "checksum": "32202a552cf1e1e4e005585b07e2df28",
     "grade": false,
     "grade_id": "cell-ad7f0e07f8d3a827",
     "locked": true,
     "schema_version": 3,
     "solution": false,
     "task": false
    }
   },
   "source": [
    "Check your results with the following code:"
   ]
  },
  {
   "cell_type": "code",
   "execution_count": 7,
   "id": "a8747ffd",
   "metadata": {
    "deletable": false,
    "editable": false,
    "nbgrader": {
     "cell_type": "code",
     "checksum": "5c6801b2457c9317beb61121671f68bc",
     "grade": false,
     "grade_id": "cell-151d623ae58754ab",
     "locked": true,
     "schema_version": 3,
     "solution": false,
     "task": false
    }
   },
   "outputs": [
    {
     "name": "stdout",
     "output_type": "stream",
     "text": [
      "Leading Principle Minors of \n",
      "\n",
      " A = \n",
      "[[1 2 5]\n",
      " [3 4 6]\n",
      " [4 8 6]]\n",
      " are [1.0, -2.0000000000000004, 27.999999999999996]\n",
      "Sign scheme is [ 1. -1.  1.]\n"
     ]
    }
   ],
   "source": [
    "A=np.array([[1,2,5],[3,4,6],[4,8,6]])\n",
    "x, y = LPM(A)\n",
    "print(f'Leading Principle Minors of \\n\\n A = \\n{A}\\n are {x}')\n",
    "print(f'Sign scheme is {y}')"
   ]
  },
  {
   "cell_type": "markdown",
   "id": "44b0ae64",
   "metadata": {
    "deletable": false,
    "editable": false,
    "nbgrader": {
     "cell_type": "markdown",
     "checksum": "4a805a02b17a0007050d73463ee9a004",
     "grade": false,
     "grade_id": "cell-f9a5551e1dfbecb5",
     "locked": true,
     "schema_version": 3,
     "solution": false,
     "task": false
    }
   },
   "source": [
    "Are the results what you should expect?\n",
    "\n",
    "Now write code to classify the matrix as positive/negative definite or indefinite. Not all matrices are of this kind, so you may also conclude that you're not sure about the type."
   ]
  },
  {
   "cell_type": "code",
   "execution_count": 27,
   "id": "5c852023",
   "metadata": {
    "deletable": false,
    "nbgrader": {
     "cell_type": "code",
     "checksum": "3bcf593a5dc631c32806f6c571f4ffd6",
     "grade": false,
     "grade_id": "cell-3bccdb8bdbf6145c",
     "locked": false,
     "schema_version": 3,
     "solution": true,
     "task": false
    }
   },
   "outputs": [],
   "source": [
    "# Create m vector of alternating signs [-1,1,-1,1..]\n",
    "def alt_signs(m):\n",
    "    x = np.ones(m)\n",
    "    for i in range(0,m,2):\n",
    "        x[i]=-1\n",
    "    return x.astype(int)\n",
    "\n",
    "# Write function check_sign\n",
    "# input:  output of LPM, that is the vector lpm of all leading principle minors\n",
    "# output: depending on type print\n",
    "#         \"Positive definite\", \n",
    "#         \"Negative definite\", \n",
    "#         \"Indefinite\", or \n",
    "#         \"Not pos definite/neg definite, maybe indefinite\"\n",
    "def check_sign(lpm):\n",
    "    _,signs = lpm\n",
    "    m = len(signs)\n",
    "    # YOUR CODE HERE\n",
    "    if np.sum(signs)==m:\n",
    "        print(\"Positive definite\")\n",
    "    elif np.dot(signs,((np.arange(1,m+1)%2)*2-1))==m:\n",
    "        print(\"Negative definite\")\n",
    "    elif np.sum(signs!=0)==m:\n",
    "        print(\"Indefinite\")\n",
    "    else:\n",
    "        print(\"Not pos definite/neg definite, maybe indefinite\")\n",
    "\n",
    "    print(signs)\n",
    "    print(alt_signs(m))\n",
    "    "
   ]
  },
  {
   "cell_type": "markdown",
   "id": "09095088",
   "metadata": {
    "deletable": false,
    "editable": false,
    "nbgrader": {
     "cell_type": "markdown",
     "checksum": "9afcf7add4cbe317ec89af9859689b51",
     "grade": false,
     "grade_id": "cell-e0ac7e4278f21472",
     "locked": true,
     "schema_version": 3,
     "solution": false,
     "task": false
    }
   },
   "source": [
    "Play around with the code below to check your code:"
   ]
  },
  {
   "cell_type": "code",
   "execution_count": 28,
   "id": "d6ce5d0c",
   "metadata": {
    "deletable": false,
    "editable": false,
    "nbgrader": {
     "cell_type": "code",
     "checksum": "18254058cc87373ec05a608a8f005dc2",
     "grade": false,
     "grade_id": "cell-79d7042cd7dccb1d",
     "locked": true,
     "schema_version": 3,
     "solution": false,
     "task": false
    }
   },
   "outputs": [
    {
     "name": "stdout",
     "output_type": "stream",
     "text": [
      "Not pos definite/neg definite, maybe indefinite\n",
      "[ 0. -1.]\n",
      "[-1  1]\n"
     ]
    },
    {
     "data": {
      "text/plain": [
       "(array([-0.41421356,  2.41421356]),\n",
       " array([[-0.92387953, -0.38268343],\n",
       "        [ 0.38268343, -0.92387953]]))"
      ]
     },
     "execution_count": 28,
     "metadata": {},
     "output_type": "execute_result"
    }
   ],
   "source": [
    "A=np.array([[0,1],[1,2]])\n",
    "check_sign(LPM(A))\n",
    "np.linalg.eig(A)"
   ]
  },
  {
   "cell_type": "markdown",
   "id": "170a4018",
   "metadata": {
    "deletable": false,
    "editable": false,
    "jupyter": {
     "source_hidden": true
    },
    "nbgrader": {
     "cell_type": "markdown",
     "checksum": "33e75a97a2e337fab6779e8e4e16c13d",
     "grade": false,
     "grade_id": "cell-2d18d65aa8959c03",
     "locked": true,
     "schema_version": 3,
     "solution": false,
     "task": false
    },
    "tags": []
   },
   "source": [
    "### Determining the principle minors\n",
    "\n",
    "Below we will present code that you may use to determine all principle minors. \n",
    "In order to determine the principle minors of order $k$ of an $m\\times m$ matrix $A$, we need to slice $m-k$ rows and the corresponding $m-k$ columns of $A$. How to do this is illustrated here:"
   ]
  },
  {
   "cell_type": "code",
   "execution_count": 29,
   "id": "72b133b2",
   "metadata": {
    "deletable": false,
    "editable": false,
    "nbgrader": {
     "cell_type": "code",
     "checksum": "76613bc60c0123be66142cc4b9032828",
     "grade": false,
     "grade_id": "cell-0ac7734e01ecc3a1",
     "locked": true,
     "schema_version": 3,
     "solution": false,
     "task": false
    }
   },
   "outputs": [
    {
     "data": {
      "text/plain": [
       "array([1, 5])"
      ]
     },
     "execution_count": 29,
     "metadata": {},
     "output_type": "execute_result"
    }
   ],
   "source": [
    "A = np.array([[1,2,3],[1,2,4],[1,2,5]])\n",
    "jojo = np.array((0,2))\n",
    "A[jojo,jojo]"
   ]
  },
  {
   "cell_type": "markdown",
   "id": "ea5e0809",
   "metadata": {
    "deletable": false,
    "editable": false,
    "nbgrader": {
     "cell_type": "markdown",
     "checksum": "9ef2b3861bab574a0a18e535c3fd3b99",
     "grade": false,
     "grade_id": "cell-e1fc03749c8f72e3",
     "locked": true,
     "schema_version": 3,
     "solution": false,
     "task": false
    }
   },
   "source": [
    "The code below uses <code>itertools</code> to determine for all necessary submatrices the corresponding determinants, i.e., the principle minors. Let's see what <code>itertools</code> may be used for: "
   ]
  },
  {
   "cell_type": "code",
   "execution_count": 36,
   "id": "6a9730f4",
   "metadata": {
    "deletable": false,
    "editable": false,
    "nbgrader": {
     "cell_type": "code",
     "checksum": "ffdc2093cc2d4185524bfbe1813f98bb",
     "grade": false,
     "grade_id": "cell-d4cfd8416776db36",
     "locked": true,
     "schema_version": 3,
     "solution": false,
     "task": false
    }
   },
   "outputs": [
    {
     "name": "stdout",
     "output_type": "stream",
     "text": [
      "()\n",
      "(1,)\n",
      "(2,)\n",
      "(3,)\n",
      "(4,)\n",
      "(1, 2)\n",
      "(1, 3)\n",
      "(1, 4)\n",
      "(2, 3)\n",
      "(2, 4)\n",
      "(3, 4)\n",
      "(1, 2, 3)\n",
      "(1, 2, 4)\n",
      "(1, 3, 4)\n",
      "(2, 3, 4)\n",
      "(1, 2, 3, 4)\n"
     ]
    }
   ],
   "source": [
    "import itertools\n",
    "\n",
    "stuff = [1, 2, 3,4]\n",
    "for L in range(len(stuff) + 1):\n",
    "    for subset in itertools.combinations(stuff, L):\n",
    "        print(subset)"
   ]
  },
  {
   "cell_type": "markdown",
   "id": "11542fca",
   "metadata": {
    "deletable": false,
    "editable": false,
    "nbgrader": {
     "cell_type": "markdown",
     "checksum": "ad404faea0bca52325ec6af95feda563",
     "grade": false,
     "grade_id": "cell-67f3294ecc7b1a40",
     "locked": true,
     "schema_version": 3,
     "solution": false,
     "task": false
    }
   },
   "source": [
    "Do you see what it does? So we may use it to subset a matrix, what we need for the principle minors. See the code below:"
   ]
  },
  {
   "cell_type": "code",
   "execution_count": 34,
   "id": "2572e395",
   "metadata": {
    "deletable": false,
    "editable": false,
    "nbgrader": {
     "cell_type": "code",
     "checksum": "2684c6c7aa531b85ab59082778a16afc",
     "grade": false,
     "grade_id": "cell-2cd58af3ba954a46",
     "locked": true,
     "schema_version": 3,
     "solution": false,
     "task": false
    }
   },
   "outputs": [],
   "source": [
    "import itertools\n",
    "\n",
    "def prin_min(matrix):\n",
    "    stuff = np.arange(1,matrix.shape[0]+1,1)\n",
    "    detarray=[]\n",
    "    for L in range(matrix.shape[0]):\n",
    "        for subset in itertools.combinations(stuff, L):\n",
    "            #print(subset, 'length=', len(subset))\n",
    "            npsubset = np.array(subset)-1\n",
    "            npsubset = npsubset.astype(int)\n",
    "            #print('subset=',npsubset, 'length=', len(npsubset))\n",
    "            submat=np.delete(np.delete(matrix, npsubset, axis=0),npsubset,axis=1)\n",
    "            detarray.append([submat.shape[0],np.linalg.det(submat)])\n",
    "    return detarray"
   ]
  },
  {
   "cell_type": "code",
   "execution_count": 35,
   "id": "1e516dcc",
   "metadata": {
    "deletable": false,
    "editable": false,
    "nbgrader": {
     "cell_type": "code",
     "checksum": "8b1b2e1d406ac7b9e52327ecf49f910c",
     "grade": false,
     "grade_id": "cell-95fb9bb57cbd2240",
     "locked": true,
     "schema_version": 3,
     "solution": false,
     "task": false
    }
   },
   "outputs": [
    {
     "name": "stdout",
     "output_type": "stream",
     "text": [
      "[[ 3. -3.]\n",
      " [ 2.  3.]\n",
      " [ 2. -9.]\n",
      " [ 2. -3.]\n",
      " [ 1.  9.]\n",
      " [ 1.  5.]\n",
      " [ 1.  1.]]\n"
     ]
    }
   ],
   "source": [
    "# Check this..\n",
    "A = np.array([[1,2,3],[4,5,6],[6,7,9]])\n",
    "principleminors = np.array(prin_min(A))\n",
    "print(principleminors)"
   ]
  },
  {
   "cell_type": "markdown",
   "id": "7fcf8706",
   "metadata": {
    "deletable": false,
    "editable": false,
    "nbgrader": {
     "cell_type": "markdown",
     "checksum": "401ca32377c25179693d876659abc470",
     "grade": false,
     "grade_id": "cell-451ed79de43b808f",
     "locked": true,
     "schema_version": 3,
     "solution": false,
     "task": false
    }
   },
   "source": [
    "## Unconstrained optimization: application MLE estimation"
   ]
  },
  {
   "cell_type": "markdown",
   "id": "8f3e3189",
   "metadata": {
    "deletable": false,
    "editable": false,
    "nbgrader": {
     "cell_type": "markdown",
     "checksum": "064e7145c79e39dc197451bdd7c2fabe",
     "grade": false,
     "grade_id": "cell-d80ff5672fedfb72",
     "locked": true,
     "schema_version": 3,
     "solution": false,
     "task": false
    }
   },
   "source": [
    "Below we will focus on a Maximum Likelihood Estimation (MLE). Suppose somebody generates data using the following."
   ]
  },
  {
   "cell_type": "code",
   "execution_count": 37,
   "id": "a8343121",
   "metadata": {
    "deletable": false,
    "editable": false,
    "nbgrader": {
     "cell_type": "code",
     "checksum": "4485fac04fb26229f2a9df8ce1aacfa9",
     "grade": false,
     "grade_id": "cell-5780f622a3de3d78",
     "locked": true,
     "schema_version": 3,
     "solution": false,
     "task": false
    }
   },
   "outputs": [],
   "source": [
    "# Create datasets\n",
    "\n",
    "np.random.seed(10)\n",
    "mu1, mu2 = -2 , 3 # mean\n",
    "sigma1, sigma2 = 1, 2 # standard deviation\n",
    "d1 = np.random.normal(mu1, sigma1, 200) # draws from  X1~N(mu1,sigma_1^2)\n",
    "d2=np.random.normal(mu2,sigma2,800)     # draws from X2~N(mu1,sigma^2_2)\n"
   ]
  },
  {
   "cell_type": "markdown",
   "id": "012d39da",
   "metadata": {
    "deletable": false,
    "editable": false,
    "nbgrader": {
     "cell_type": "markdown",
     "checksum": "59c861f92d58193b93a4ff90ae532717",
     "grade": false,
     "grade_id": "cell-2beaa9a13e83f423",
     "locked": true,
     "schema_version": 3,
     "solution": false,
     "task": false
    }
   },
   "source": [
    "Now what happens is, that you get the combined data - the vector $d$ below. You only know that there were 200 draws from the distribution $N(\\mu_1,\\sigma^2_1)$ and 800 draws from the distribution $N(\\mu_2,\\sigma^2_2)$ with $(\\sigma_1,\\sigma_2)=(1,2)$. So you know the variances, but not the means. "
   ]
  },
  {
   "cell_type": "code",
   "execution_count": 43,
   "id": "92e0db4f",
   "metadata": {
    "deletable": false,
    "editable": false,
    "nbgrader": {
     "cell_type": "code",
     "checksum": "8fe3bf2764b7647333cdfb113d37a7de",
     "grade": false,
     "grade_id": "cell-76246af21ac3065c",
     "locked": true,
     "schema_version": 3,
     "solution": false,
     "task": false
    }
   },
   "outputs": [
    {
     "name": "stdout",
     "output_type": "stream",
     "text": [
      "3.266274993742116\n",
      "3.266274993742116\n"
     ]
    }
   ],
   "source": [
    "d = np.hstack((d1,d2))"
   ]
  },
  {
   "cell_type": "markdown",
   "id": "960247a7",
   "metadata": {
    "deletable": false,
    "editable": false,
    "nbgrader": {
     "cell_type": "markdown",
     "checksum": "7d539482bb6c420cb6c1872d18886627",
     "grade": false,
     "grade_id": "cell-bb9701fad50165c4",
     "locked": true,
     "schema_version": 3,
     "solution": false,
     "task": false
    }
   },
   "source": [
    "In order to get some idea about the dataset you can create a histogram, as follows."
   ]
  },
  {
   "cell_type": "code",
   "execution_count": 44,
   "id": "c57d82d9",
   "metadata": {
    "deletable": false,
    "editable": false,
    "nbgrader": {
     "cell_type": "code",
     "checksum": "9c9209083a2add9256c23922fedecf8a",
     "grade": false,
     "grade_id": "cell-34c5f616388836f1",
     "locked": true,
     "schema_version": 3,
     "solution": false,
     "task": false
    }
   },
   "outputs": [
    {
     "data": {
      "text/plain": [
       "(0.0, 60.0)"
      ]
     },
     "execution_count": 44,
     "metadata": {},
     "output_type": "execute_result"
    },
    {
     "data": {
      "image/png": "[encoded data removed]",
      "text/plain": [
       "<Figure size 432x288 with 1 Axes>"
      ]
     },
     "metadata": {
      "needs_background": "light"
     },
     "output_type": "display_data"
    }
   ],
   "source": [
    "# Create histogram of combined data contained in d\n",
    "import matplotlib.pyplot as plt\n",
    "\n",
    "# An \"interface\" to matplotlib.axes.Axes.hist() method\n",
    "n, bins, patches = plt.hist(x=d, bins=50, color='#0504aa',\n",
    "                            alpha=0.7, rwidth=0.85)\n",
    "plt.grid(axis='y', alpha=0.75)\n",
    "plt.xlabel('Value')\n",
    "plt.ylabel('Frequency')\n",
    "plt.title('Values of $X$')\n",
    "maxfreq = n.max()\n",
    "# Set a clean upper y-axis limit.\n",
    "plt.ylim(ymax=np.ceil(maxfreq / 10) * 10 if maxfreq % 10 else maxfreq + 10)"
   ]
  },
  {
   "cell_type": "markdown",
   "id": "0e26102b",
   "metadata": {
    "deletable": false,
    "editable": false,
    "nbgrader": {
     "cell_type": "markdown",
     "checksum": "392c1e07bf6c20ed45513ca50d508cef",
     "grade": false,
     "grade_id": "cell-1f005ecfa352fcf3",
     "locked": true,
     "schema_version": 3,
     "solution": false,
     "task": false
    }
   },
   "source": [
    "### Maximum Likelihood Estimation\n",
    "\n",
    "So here you are... you collected data from the realizations of two iid normal distributed random variables $X_1$ and $X_2$ with known standard deviations $\\sigma_1=2,\\sigma_2=1$, but unknown means. \n",
    "Say $X_1\\sim N(\\mu_1,\\sigma_1^2)$ and $X_2\\sim N(\\mu_2,\\sigma_2^2)$. \n",
    "You forgot to label what was the measurement about, and that you only know that 20% of the collected data corresponds to $X_1$ whilst 80% corresponds to $X_2$. Can you say something about the means $(\\mu_1,\\mu_2)$?\n",
    "\n",
    "The joint pdf of $X$ is given by the weighted pdf's for $X_1$ and $X_2$, i.e., \n",
    "\n",
    "$${\\displaystyle f_i(x)={\\frac {1}{\\sigma_i {\\sqrt {2\\pi }}}}e^{-{\\frac {1}{2}}\\left({\\frac {x-\\mu_i }{\\sigma_i }}\\right)^{2}}}$$\n",
    "\n",
    "Then the pdf for the mixed distribution is the following\n",
    "\n",
    "$$f(x\\mid \\mu_1,\\mu_2)=0.2 f_1(x\\mid \\mu_1,\\mu_2)+0.8 f_2(x\\mid \\mu_1,\\mu_2)= \\frac{0.2}{\\sqrt{2\\pi}}e^{-{\\frac {1}{2}}\\left( {x-\\mu_1 }\\right)^{2}}+{\\frac {0.8}{2 {\\sqrt {2\\pi }}}}e^{-{\\frac {1}{2}}\\left({\\frac {x-\\mu_2 }{2}}\\right)^{2}}$$\n",
    "\n",
    "The likelihood function is the value of the density given the data\n",
    "\n",
    "$$\\mathcal{L}(\\mu_1,\\mu_2)= \\prod_{i=1}^{1000} f(\\mu_1,\\mu_2\\mid x_i).$$ \n",
    "\n",
    "Then the log-likelihood function is \n",
    "\n",
    "$$\\log \\mathcal{L}(\\mu_1,\\mu_2)= \\sum_{i=1}^{1000} \\log f(\\mu_1,\\mu_2\\mid x_i).$$\n",
    "\n",
    "Now you want to retrieve the combination of $(\\mu_1,\\mu_2)$ that is most likely, given the data. In order to do so, MLE tries to find the combination of values $(\\mu_1,\\mu_2)$ that maximizes the likelihood function $\\mathcal{L}$. Of course, this is equivalent with maximizing the log-likelihood function $\\log \\mathcal{L}$, since $\\log$ is a monotone function. Note that this problem is of type 'unconstrained optimization', since there are no restrictions on $(\\mu_1,\\mu_2)\\in\\mathbb{R}^2$. \n",
    "\n",
    "You will implement this optimization below."
   ]
  },
  {
   "cell_type": "markdown",
   "id": "49620410",
   "metadata": {
    "deletable": false,
    "editable": false,
    "nbgrader": {
     "cell_type": "markdown",
     "checksum": "ae45f6efef3f4642f721e976905145ff",
     "grade": false,
     "grade_id": "cell-6aada9becd964a8d",
     "locked": true,
     "schema_version": 3,
     "solution": false,
     "task": false
    }
   },
   "source": [
    "### Intermezzo: Using optimization software: <code>scipy.optimize.minimize</code>\n",
    "\n",
    "In principle, possible extrema for the likelihood function are calculated by solving for stationary points, via $\\nabla \\mathcal{L}=0$. Unfortunately, only in special cases you will be able to find analytic results or solve this equation directly. It is more common that you will need a numerical solver. In that case maximizing the log-likelihood function $\\log \\mathcal{L}$ is preferable due to its additive structure. \n",
    "\n",
    "Here you will learn how to use <code>scipy.optimize</code> for this setting. The basic code for unconstrained optimization is highlighted in the examples below. For more details see also:\n",
    "\n",
    "https://docs.scipy.org/doc/scipy/reference/generated/scipy.optimize.minimize.html#scipy.optimize.minimize\n",
    "\n"
   ]
  },
  {
   "cell_type": "code",
   "execution_count": 45,
   "id": "440f6f7b",
   "metadata": {
    "deletable": false,
    "editable": false,
    "nbgrader": {
     "cell_type": "code",
     "checksum": "f60befab4118ee4bcc9c86584e65fbad",
     "grade": false,
     "grade_id": "cell-526ee23b3d6dcf9b",
     "locked": true,
     "schema_version": 3,
     "solution": false,
     "task": false
    }
   },
   "outputs": [
    {
     "name": "stdout",
     "output_type": "stream",
     "text": [
      "True\n",
      "0.6999999997839409\n"
     ]
    }
   ],
   "source": [
    "# Example 1: univariate function\n",
    "from scipy import optimize\n",
    "def f(x):\n",
    "    return -np.exp(-(x - 0.7)**2)\n",
    "result = optimize.minimize_scalar(f)\n",
    "print(result.success) # check if solver was successful\n",
    "print(result.x) # the calculated minimum "
   ]
  },
  {
   "cell_type": "code",
   "execution_count": 46,
   "id": "0bbd1881",
   "metadata": {
    "deletable": false,
    "editable": false,
    "nbgrader": {
     "cell_type": "code",
     "checksum": "7eaa4d22ad4b47e92de743f206b1396c",
     "grade": false,
     "grade_id": "cell-a7e9fa7facf2c919",
     "locked": true,
     "schema_version": 3,
     "solution": false,
     "task": false
    }
   },
   "outputs": [
    {
     "data": {
      "text/plain": [
       "     fun: 1.6503729082243953e-11\n",
       "     jac: array([-6.15347610e-06,  2.53804028e-07])\n",
       " message: 'Optimization terminated successfully.'\n",
       "    nfev: 81\n",
       "     nit: 13\n",
       "    njev: 27\n",
       "  status: 0\n",
       " success: True\n",
       "       x: array([0.99999426, 0.99998863])"
      ]
     },
     "execution_count": 46,
     "metadata": {},
     "output_type": "execute_result"
    }
   ],
   "source": [
    "# Example 2: multivariate functions\n",
    "def f(x):\n",
    "    return .5*(1 - x[0])**2 + (x[1] - x[0]**2)**2 # The Rosenbrock function\n",
    "\n",
    "starting_point = [2,-1] \n",
    "optimize.minimize(f, starting_point, method=\"CG\") # Needs specification of starting point and solution method"
   ]
  },
  {
   "cell_type": "code",
   "execution_count": 49,
   "id": "df03a981",
   "metadata": {
    "deletable": false,
    "editable": false,
    "nbgrader": {
     "cell_type": "code",
     "checksum": "85e8d3527be114cdb53e0841eaf779d6",
     "grade": false,
     "grade_id": "cell-71751d16a313493a",
     "locked": true,
     "schema_version": 3,
     "solution": false,
     "task": false
    }
   },
   "outputs": [],
   "source": [
    "# Example 3\n",
    "def f(x):   # The rosenbrock function\n",
    "    return .5*(1 - x[0])**2 + (x[1] - x[0]**2)**2\n",
    "solutions=optimize.minimize(f, [2, -1], method=\"BFGS\")"
   ]
  },
  {
   "cell_type": "markdown",
   "id": "1f48a106",
   "metadata": {
    "deletable": false,
    "editable": false,
    "nbgrader": {
     "cell_type": "markdown",
     "checksum": "2d7d2b9bae6806d0b02400877d7c1190",
     "grade": false,
     "grade_id": "cell-d0c9048b1b7ec6d4",
     "locked": true,
     "schema_version": 3,
     "solution": false,
     "task": false
    }
   },
   "source": [
    "For more details about the methods that you are adviced to use given the specifications of the problem, see:\n",
    "https://scipy-lectures.org/advanced/mathematical_optimization/"
   ]
  },
  {
   "cell_type": "markdown",
   "id": "95669ee4",
   "metadata": {
    "deletable": false,
    "editable": false,
    "nbgrader": {
     "cell_type": "markdown",
     "checksum": "54ac5dc60cdc47b35d1aabc3b00a65a9",
     "grade": false,
     "grade_id": "cell-8ed68597af2a2018",
     "locked": true,
     "schema_version": 3,
     "solution": false,
     "task": false
    }
   },
   "source": [
    "### Exercise\n",
    "\n",
    "* Calculate the Hessian matrix for the Rosenbrock function $f$ at the solutions.\n",
    "* Check that these are indeed in line with a minimum location. \n",
    "* What method performs better in this case, 'CG' or 'BFGS'?"
   ]
  },
  {
   "cell_type": "code",
   "execution_count": 51,
   "id": "e66dae15",
   "metadata": {
    "deletable": false,
    "nbgrader": {
     "cell_type": "code",
     "checksum": "16acb0b8c98700a07539f71466390e56",
     "grade": false,
     "grade_id": "cell-8172f12f68fe0d67",
     "locked": false,
     "schema_version": 3,
     "solution": true,
     "task": false
    }
   },
   "outputs": [
    {
     "data": {
      "text/plain": [
       "array([[ 8.99999859, -3.99999962],\n",
       "       [-3.99999962,  2.        ]])"
      ]
     },
     "execution_count": 51,
     "metadata": {},
     "output_type": "execute_result"
    }
   ],
   "source": [
    "# input calculated solutions\n",
    "# output: classification, output from check_sign\n",
    "\n",
    "# YOUR CODE HERE\n",
    "import numdifftools as nd\n",
    "\n",
    "Hfx=nd.Hessian(f)(solutions.x)\n",
    "Hfx\n"
   ]
  },
  {
   "cell_type": "markdown",
   "id": "b016f7a5",
   "metadata": {
    "deletable": false,
    "editable": false,
    "nbgrader": {
     "cell_type": "markdown",
     "checksum": "dc253c59bf214129fe5318d4e2929c19",
     "grade": false,
     "grade_id": "cell-20a054dc74ec804c",
     "locked": true,
     "schema_version": 3,
     "solution": false,
     "task": false
    }
   },
   "source": [
    "Check your answer, did you obtain the following?"
   ]
  },
  {
   "cell_type": "code",
   "execution_count": null,
   "id": "c871da1e",
   "metadata": {
    "deletable": false,
    "editable": false,
    "nbgrader": {
     "cell_type": "code",
     "checksum": "5bad65f82a00458965ba4a1e3930748c",
     "grade": false,
     "grade_id": "cell-38b4bb46f5ff8d6d",
     "locked": true,
     "schema_version": 3,
     "solution": false,
     "task": false
    }
   },
   "outputs": [],
   "source": [
    "hessian = [[ 8.99999868, -3.99999964],\n",
    " [-3.99999964,  2.        ]]\n",
    "signs = [1., 1.]\n",
    "signature_hessian = 'Positive definite'"
   ]
  },
  {
   "cell_type": "markdown",
   "id": "56eb563f",
   "metadata": {
    "deletable": false,
    "editable": false,
    "nbgrader": {
     "cell_type": "markdown",
     "checksum": "1df634a541ad355abbc084846b405113",
     "grade": false,
     "grade_id": "cell-89cfd7ecece57cf1",
     "locked": true,
     "schema_version": 3,
     "solution": false,
     "task": false
    }
   },
   "source": [
    "### Exercise: define the objective function\n",
    "\n",
    "Define the function <code>MLEfunc</code> that you want to minimize in order to maximize the log-likelihood function $\\log \\mathcal{L}$. Use the data vector $d$ that was created. "
   ]
  },
  {
   "cell_type": "code",
   "execution_count": null,
   "id": "0e079800",
   "metadata": {
    "deletable": false,
    "nbgrader": {
     "cell_type": "code",
     "checksum": "0cf49cb377fe72c68c1b8299f98d2681",
     "grade": false,
     "grade_id": "cell-a80059bb812224c8",
     "locked": false,
     "schema_version": 3,
     "solution": true,
     "task": false
    }
   },
   "outputs": [],
   "source": [
    "# Objective function\n",
    "# ml modeling and neg LL calculation\n",
    "# input:  parameters (mu1,mu2)\n",
    "# output: -logL(mu1,mu2)\n",
    "\n",
    "def MLEfunc(parameters):\n",
    "    # YOUR CODE HERE\n",
    "    raise NotImplementedError()\n",
    "    return neg_LL \n",
    "    \n"
   ]
  },
  {
   "cell_type": "code",
   "execution_count": null,
   "id": "3f7a432d",
   "metadata": {
    "deletable": false,
    "nbgrader": {
     "cell_type": "code",
     "checksum": "68872ac61e01029b015f0d167231d293",
     "grade": false,
     "grade_id": "cell-732293b64d56a652",
     "locked": false,
     "schema_version": 3,
     "solution": true,
     "task": false
    }
   },
   "outputs": [],
   "source": [
    "import numdifftools as nd\n",
    "from scipy.optimize import minimize\n",
    "\n",
    "# Determine gradient and Hessian matrix\n",
    "MLEgrad=nd.Gradient(MLEfunc)\n",
    "MLEhess=nd.Hessian(MLEfunc)\n",
    "\n",
    "# Solve MLE minimization: specify\n",
    "#                         function, \n",
    "#                         intial_guess_of_parameters, \n",
    "#                         method\n",
    "# output mle_model using minimize with starting point [0,0]\n",
    "# print solution for (mu1,mu2)\n",
    "# print corresponding function value\n",
    "\n",
    "# YOUR CODE HERE\n",
    "raise NotImplementedError()\n"
   ]
  },
  {
   "cell_type": "markdown",
   "id": "4233d06f",
   "metadata": {
    "deletable": false,
    "editable": false,
    "nbgrader": {
     "cell_type": "markdown",
     "checksum": "a0d19e5c1973bd45812a29953dbfbcd6",
     "grade": false,
     "grade_id": "cell-3ee500de041a59f8",
     "locked": true,
     "schema_version": 3,
     "solution": false,
     "task": false
    }
   },
   "source": [
    "### Exercise: \n",
    "\n",
    "Check the solution you found using <code>minimize</code> using FOC and SOC:\n",
    "\n",
    "* Value of the gradient at the found optimum\n",
    "* Hessian and signs of the leading principle minors"
   ]
  },
  {
   "cell_type": "code",
   "execution_count": null,
   "id": "3c061a50",
   "metadata": {
    "deletable": false,
    "nbgrader": {
     "cell_type": "code",
     "checksum": "aebbcaf8cd44fb21f74bbadf9206f0b3",
     "grade": false,
     "grade_id": "cell-2c93684365db7d38",
     "locked": false,
     "schema_version": 3,
     "solution": true,
     "task": false
    }
   },
   "outputs": [],
   "source": [
    "# YOUR CODE HERE\n",
    "raise NotImplementedError()"
   ]
  },
  {
   "cell_type": "markdown",
   "id": "d8a722c9",
   "metadata": {
    "deletable": false,
    "editable": false,
    "nbgrader": {
     "cell_type": "markdown",
     "checksum": "bff16e311558dd2532f18af3e9dd1a66",
     "grade": false,
     "grade_id": "cell-89ece8e194ddfdf2",
     "locked": true,
     "schema_version": 3,
     "solution": false,
     "task": false
    }
   },
   "source": [
    "It is easy to create a heatmap with contours for this function:"
   ]
  },
  {
   "cell_type": "code",
   "execution_count": null,
   "id": "b23dc452",
   "metadata": {
    "deletable": false,
    "editable": false,
    "nbgrader": {
     "cell_type": "code",
     "checksum": "f4463cc2ddf9196eb2392d1d436a18f5",
     "grade": false,
     "grade_id": "cell-aa5bc1f498a4e8bc",
     "locked": true,
     "schema_version": 3,
     "solution": false,
     "task": false
    }
   },
   "outputs": [],
   "source": [
    "x = np.linspace(-10, 10, 100)\n",
    "y = np.linspace(-10, 10, 100)\n",
    "\n",
    "X, Y = np.meshgrid(x, y)\n",
    "Z = np.zeros_like(X)\n",
    "\n",
    "for i in range(len(x)):\n",
    "    for j in range(len(y)):\n",
    "        Z[j,i]=MLEfunc([x[i],y[j]])\n",
    "\n",
    "plt.contourf(X, Y, Z, 100, cmap='RdGy')\n",
    "plt.colorbar();\n",
    "\n",
    "plt.show()\n"
   ]
  },
  {
   "cell_type": "code",
   "execution_count": null,
   "id": "9efe35e5",
   "metadata": {
    "deletable": false,
    "editable": false,
    "nbgrader": {
     "cell_type": "code",
     "checksum": "578c69e5eb58c5bddbcb2de2e6a07a78",
     "grade": false,
     "grade_id": "cell-fe090e85e07e2e67",
     "locked": true,
     "schema_version": 3,
     "solution": false,
     "task": false
    }
   },
   "outputs": [],
   "source": [
    "\n",
    "plt.contour(X, Y, Z, 300, cmap='RdGy');\n"
   ]
  },
  {
   "cell_type": "markdown",
   "id": "b414bd59",
   "metadata": {
    "deletable": false,
    "editable": false,
    "nbgrader": {
     "cell_type": "markdown",
     "checksum": "291b827685e247e5a2019ba63b3353b9",
     "grade": false,
     "grade_id": "cell-4767de9ff4f61e81",
     "locked": true,
     "schema_version": 3,
     "solution": false,
     "task": false
    }
   },
   "source": [
    "**Question:** What happens if you use <code>scipy.optimize.minimize</code> with initial values $(\\mu^0_1,\\mu^0_2)=(7,0)$?"
   ]
  },
  {
   "cell_type": "markdown",
   "id": "1cddaf4d",
   "metadata": {
    "deletable": false,
    "editable": false,
    "nbgrader": {
     "cell_type": "markdown",
     "checksum": "1a9e342a2c809e1e9cbff9a5a915fa1d",
     "grade": false,
     "grade_id": "cell-e605bf8800ab4dc3",
     "locked": true,
     "schema_version": 3,
     "solution": false,
     "task": false
    }
   },
   "source": [
    "#### Warning, advice\n",
    "\n",
    "Here a graphical representation helped us figuring out the problem here. When there are more parameters involved, this may be unfeasible. We do not know whether the properties of the minimizing algorithm, together with the properties of our likelihood function, guarantee numerical convergence to the true solution of the problem. Usually, when there is no theoretical guarantee that numerical convergence can be achieved, a multiple starts approach is usually followed: the numerical optimization algorithm is run several times, with random starting values for the parameter, and if all runs of the algorithm (or a majority of them) lead to the same proposed solution, then this is taken as evidence that the proposed solution is a good approximation of the true solution.\n",
    "\n"
   ]
  }
 ],
 "metadata": {
  "kernelspec": {
   "display_name": "Python 3.9.12 ('base')",
   "language": "python",
   "name": "python3"
  },
  "language_info": {
   "codemirror_mode": {
    "name": "ipython",
    "version": 3
   },
   "file_extension": ".py",
   "mimetype": "text/x-python",
   "name": "python",
   "nbconvert_exporter": "python",
   "pygments_lexer": "ipython3",
   "version": "3.9.12"
  },
  "vscode": {
   "interpreter": {
    "hash": "b68ca19c0df0760c1787e20c3f0dd1e5f78c535cd246ff2eb4732394cfca7b12"
   }
  }
 },
 "nbformat": 4,
 "nbformat_minor": 5
}
