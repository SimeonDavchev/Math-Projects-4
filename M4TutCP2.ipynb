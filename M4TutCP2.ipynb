{
 "cells": [
  {
   "cell_type": "markdown",
   "id": "96f76554",
   "metadata": {
    "deletable": false,
    "editable": false,
    "nbgrader": {
     "cell_type": "markdown",
     "checksum": "b6042c0a14febf3ed88ed5ac580fc329",
     "grade": false,
     "grade_id": "cell-3a53dbe89c4e8a22",
     "locked": true,
     "schema_version": 3,
     "solution": false,
     "task": false
    }
   },
   "source": [
    "# Tutorial 2: Continuity and differential calculus\n",
    "\n",
    "**Topics:**\n",
    "* solve equations, use continuity\n",
    "* optimisation and solver: <code>gekko</code>\n",
    "* calculate derivatives, <code> numdifftools </code> "
   ]
  },
  {
   "cell_type": "markdown",
   "id": "f612dfda-ecf0-4ba4-a7f9-789743812662",
   "metadata": {
    "deletable": false,
    "editable": false,
    "nbgrader": {
     "cell_type": "markdown",
     "checksum": "666c7e894d49fe084ff8e721ece27c10",
     "grade": false,
     "grade_id": "cell-a6af550091d9fed8",
     "locked": true,
     "schema_version": 3,
     "solution": false,
     "task": false
    }
   },
   "source": [
    "### 1. Working with GEKKO\n",
    "\n",
    "GEKKO is a Python package for machine learning and optimization of mixed-integer and differential algebraic equations. It is coupled with large-scale solvers for linear, quadratic, nonlinear, and mixed integer programming (LP, QP, NLP, MILP, MINLP). We will discover some of its static features in this course. Here we will look at GEKKO as a solver of nonlinear equations. \n",
    "\n",
    "\n"
   ]
  },
  {
   "cell_type": "markdown",
   "id": "ae21101b-ddab-4651-902a-49302e7b7bf9",
   "metadata": {
    "deletable": false,
    "editable": false,
    "nbgrader": {
     "cell_type": "markdown",
     "checksum": "a3eb0f828baee78a48f0cf805fca09b4",
     "grade": false,
     "grade_id": "cell-ccc91616c6dc7eb1",
     "locked": true,
     "schema_version": 3,
     "solution": false,
     "task": false
    }
   },
   "source": [
    "#### 1.1. Installing GEKKO\n",
    "\n",
    "The GEKKO package is available through the package manager <code>pip</code> in Python.\n",
    "To install use:\n",
    "\n",
    " <code> pip install gekko </code>\n",
    " \n",
    "using Terminal. There is also an alternative way. Another method to obtain GEKKO is to include a code snippet at the beginning of a Python script. If GEKKO is not available, it uses the pip module to install it. \n",
    "\n",
    "If a <code> pip </code> install does not work - try the following."
   ]
  },
  {
   "cell_type": "code",
   "execution_count": 55,
   "id": "b181e763",
   "metadata": {
    "deletable": false,
    "editable": false,
    "nbgrader": {
     "cell_type": "code",
     "checksum": "e32c262af3013206435a95523ccd120f",
     "grade": false,
     "grade_id": "cell-5cd00b1c76b7725a",
     "locked": true,
     "schema_version": 3,
     "solution": false,
     "task": false
    }
   },
   "outputs": [
    {
     "name": "stderr",
     "output_type": "stream",
     "text": [
      "WARNING: pip is being invoked by an old script wrapper. This will fail in a future version of pip.\n",
      "Please see https://github.com/pypa/pip/issues/5599 for advice on fixing the underlying issue.\n",
      "To avoid this problem you can invoke Python with '-m pip' instead of running pip directly.\n"
     ]
    },
    {
     "name": "stdout",
     "output_type": "stream",
     "text": [
      "Requirement already satisfied: gekko in /Users/simeon/opt/anaconda3/lib/python3.9/site-packages (1.0.5)\n",
      "Requirement already satisfied: numpy>=1.8 in /Users/simeon/opt/anaconda3/lib/python3.9/site-packages (from gekko) (1.21.5)\n"
     ]
    },
    {
     "data": {
      "text/plain": [
       "0"
      ]
     },
     "execution_count": 55,
     "metadata": {},
     "output_type": "execute_result"
    }
   ],
   "source": [
    "try:\n",
    "    from pip import main as pipmain\n",
    "except:\n",
    "    from pip._internal import main as pipmain\n",
    "pipmain(['install','gekko'])\n",
    "# to upgrade: pipmain(['install','--upgrade','gekko'])"
   ]
  },
  {
   "cell_type": "markdown",
   "id": "1b738360-5771-416e-bef5-9560e23a56a8",
   "metadata": {
    "deletable": false,
    "editable": false,
    "nbgrader": {
     "cell_type": "markdown",
     "checksum": "ccceb5f2dd04c2e181ac2162f815a482",
     "grade": false,
     "grade_id": "cell-47e296c0860c3d5e",
     "locked": true,
     "schema_version": 3,
     "solution": false,
     "task": false
    }
   },
   "source": [
    "#### 1.2 GEKKO and solving linear and nonlinear equations\n",
    "\n",
    "\n",
    "In this tutorial we will learn how to use GEKKO to solve nonlinear equations. An introduction is given here:\n",
    "   * youtube clip:  https://youtu.be/CzWdejCDOAg\n",
    "   * written documentation: https://gekko.readthedocs.io/en/latest/quick_start.html\n",
    "\n",
    "The basics are easy to follow. See the following example."
   ]
  },
  {
   "cell_type": "markdown",
   "id": "de4cdb16-8142-46e8-a53f-d6afc360b54b",
   "metadata": {
    "deletable": false,
    "editable": false,
    "nbgrader": {
     "cell_type": "markdown",
     "checksum": "402074f968ce45dddd7cd609e7d39e04",
     "grade": false,
     "grade_id": "cell-5f9dbb95032deb3e",
     "locked": true,
     "schema_version": 3,
     "solution": false,
     "task": false
    }
   },
   "source": [
    "##### **Example 1:** solving a nonlinear equations\n",
    "Consider the following system of equations:\n",
    "\n",
    "$\\left\\{\\begin{array}{rcl}\n",
    "x+\\alpha y &=& 0\\\\\n",
    "x^2+y^2 & =& 1\n",
    "\\end{array}\\right.$\n",
    "\n",
    "Here $\\alpha$ is a given scalar. It is not hard to solve for $x$ and $y$ for any value of $\\alpha$ analytically, on paper. \n",
    "\n",
    "* Find those solutions $(x(\\alpha),y(\\alpha))$\n",
    "\n",
    "Now we will check these solutions with use of GEKKO.\n",
    "In GEKKO you will need to carry out the following steps:\n",
    "\n",
    "* Create an instance of GEKKO by calling <code>m=GEKKO()</code>\n",
    "* Define variables <code>m.Var</code> with initial values\n",
    "* Define the relevant equations <code>m.Equations</code>\n",
    "* Call <code>m.solve</code>\n",
    "\n",
    "How this is done, here is an example.\n"
   ]
  },
  {
   "cell_type": "code",
   "execution_count": 56,
   "id": "4da6f4bf",
   "metadata": {
    "deletable": false,
    "editable": false,
    "nbgrader": {
     "cell_type": "code",
     "checksum": "2bdf7eb9ad98dde4baca73b98d7b3fbe",
     "grade": false,
     "grade_id": "cell-4a81db8e5837f0e8",
     "locked": true,
     "schema_version": 3,
     "solution": false,
     "task": false
    }
   },
   "outputs": [
    {
     "name": "stdout",
     "output_type": "stream",
     "text": [
      "[-0.70710678119, 0.70710678119]\n"
     ]
    }
   ],
   "source": [
    "import numpy as np\n",
    "from gekko import GEKKO\n",
    "alpha = 1.\n",
    "m = GEKKO(remote=False)             # create GEKKO model\n",
    "x = m.Var(value=-1)     # define new variable, initial value=-1\n",
    "y = m.Var(value=1)      # define new variable, initial value=1\n",
    "m.Equations([x == -alpha*y, x**2+y**2==1]) # define equations\n",
    "m.solve(disp=False)     # solve, display algorithmic information\n",
    "print([x.value[0],y.value[0]]) # print solution"
   ]
  },
  {
   "cell_type": "markdown",
   "id": "7b809ac8-443d-4f27-aa9a-3cfed046de16",
   "metadata": {
    "deletable": false,
    "editable": false,
    "nbgrader": {
     "cell_type": "markdown",
     "checksum": "af733679a7d0fbd551505c6daad54b1b",
     "grade": false,
     "grade_id": "cell-f715039d39f16c3c",
     "locked": true,
     "schema_version": 3,
     "solution": false,
     "task": false
    }
   },
   "source": [
    "If you created the GEKKO instance by\n",
    "<code>m = GEKKO()</code>\n",
    "you may call a number of standard functions \n",
    "<code>m.exp(),m.log, m.sin(),m.cos(),m.sigmoid(), m.tanh()</code>, andsoforth. If you want more information, type <code>help(m)</code>. Here the options and other functionalities are listed. \n",
    "\n",
    "##### **Example 2:** solving a nonlinear equations\n",
    "Below we will try to find a solution to\n",
    "\n",
    "$\\left\\{\\begin{array}{rcl}\n",
    "\\cos(x+\\pi)-\\pi \\sin(\\pi y) &=& 0\\\\\n",
    "x+y & =& 0\n",
    "\\end{array}\\right.$"
   ]
  },
  {
   "cell_type": "code",
   "execution_count": 57,
   "id": "2a64fb57-19aa-4019-9e5f-4d39f1519f36",
   "metadata": {
    "deletable": false,
    "editable": false,
    "nbgrader": {
     "cell_type": "code",
     "checksum": "f4b2346c233244d31906905db6b77435",
     "grade": false,
     "grade_id": "cell-e45e2cced0de9f76",
     "locked": true,
     "schema_version": 3,
     "solution": false,
     "task": false
    }
   },
   "outputs": [
    {
     "name": "stdout",
     "output_type": "stream",
     "text": [
      "[-1.0505763609, 1.0505763609]\n"
     ]
    }
   ],
   "source": [
    "import numpy as np\n",
    "from gekko import GEKKO\n",
    "alpha = 1.\n",
    "m = GEKKO(remote=False)             # create GEKKO model\n",
    "x = m.Var(value=-1)     # define new variable, initial value=-1\n",
    "y = m.Var(value=1)      # define new variable, initial value=1\n",
    "m.Equations([m.cos(x+np.pi) == np.pi*m.sin(np.pi*y),x+y==0]) # define equations\n",
    "m.solve(disp=False)     # solve, display algorithmic information\n",
    "print([x.value[0],y.value[0]]) # print solution\n"
   ]
  },
  {
   "cell_type": "code",
   "execution_count": 58,
   "id": "7ddd4c55-135f-4899-a280-6e3e5d8cb165",
   "metadata": {
    "deletable": false,
    "editable": false,
    "nbgrader": {
     "cell_type": "code",
     "checksum": "28915e6bc958481d9d615e52e7b7661d",
     "grade": false,
     "grade_id": "cell-3b5f068b9086c6ac",
     "locked": true,
     "schema_version": 3,
     "solution": false,
     "task": false
    }
   },
   "outputs": [
    {
     "name": "stdout",
     "output_type": "stream",
     "text": [
      "Help on GEKKO in module gekko.gekko object:\n",
      "\n",
      "class GEKKO(builtins.object)\n",
      " |  GEKKO(remote=True, server='http://byu.apmonitor.com', name=None)\n",
      " |  \n",
      " |  Create a model object. This is the basic object for solving optimization problems\n",
      " |  \n",
      " |  Methods defined here:\n",
      " |  \n",
      " |  Array(self, f, dim, **args)\n",
      " |      #%% Add array functionality to all types\n",
      " |  \n",
      " |  CV(self, value=None, lb=None, ub=None, integer=False, fixed_initial=True, name=None)\n",
      " |      A variable with a setpoint. Reaching the setpoint is added to the\n",
      " |      objective.\n",
      " |  \n",
      " |  Connection(self, var1, var2=None, pos1=None, pos2=None, node1='end', node2='end')\n",
      " |      Connect two variables or a variable to a value. When\n",
      " |      Variables are connected, they become a single entity and are merged.\n",
      " |      The first variable retains all of the properties and the second variable\n",
      " |      becomes an alias for the first.\n",
      " |      \n",
      " |      var1 = Variable 1 name\n",
      " |      var2 = Variable 2 name (default=None)\n",
      " |      pos1 = Step position in the collocation horizon for var1 (default=None)\n",
      " |             Use 'end' for the last position in the horizon\n",
      " |      pos2 = Step position in the collocation horizon for var2 (default=None)\n",
      " |             Use 'end' for the last position in the horizon\n",
      " |      node1 = Node within the pos1 step (default='end')\n",
      " |      node2 = Node within the pos2 step (default='end')\n",
      " |  \n",
      " |  Const(self, value=0, name=None)\n",
      " |      Define a constant. There is no functional difference between using\n",
      " |      this Const, a python variable or a magic number. However, this Const\n",
      " |      can be provided a name to make the .apm model more clear.\n",
      " |  \n",
      " |  Equation(self, equation)\n",
      " |  \n",
      " |  Equations(self, eqs)\n",
      " |  \n",
      " |  FV(self, value=None, lb=None, ub=None, integer=False, fixed_initial=True, name=None)\n",
      " |      A manipulated variable that is fixed with time. Therefore it lacks\n",
      " |      time-based attributes.\n",
      " |  \n",
      " |  GUI(self)\n",
      " |  \n",
      " |  Intermediate(self, equation, name=None)\n",
      " |  \n",
      " |  MV(self, value=None, lb=None, ub=None, integer=False, fixed_initial=True, name=None)\n",
      " |      Change these variables optimally to meet objectives\n",
      " |  \n",
      " |  Maximize(self, obj)\n",
      " |  \n",
      " |  Minimize(self, obj)\n",
      " |  \n",
      " |  Obj(self, obj)\n",
      " |  \n",
      " |  Param(self, value=None, lb=None, ub=None, integer=False, name=None)\n",
      " |      GK parameters can become MVs and FVs. Since GEKKO defines\n",
      " |      MVs and FVs directly, there's not much use for parameters. Parameters\n",
      " |      are effectively constants unless the resulting .apm model is used later\n",
      " |      and the parameters can be set as MVs or FVs.\n",
      " |  \n",
      " |  Raw(self, raw)\n",
      " |  \n",
      " |  SV(self, value=None, lb=None, ub=None, integer=False, fixed_initial=True, name=None)\n",
      " |      A variable that's special\n",
      " |  \n",
      " |  Var(self, value=None, lb=None, ub=None, integer=False, fixed_initial=True, name=None)\n",
      " |      Calculated by solver to meet constraints (Equations). The number of\n",
      " |      variables (including CVs and SVs) must equal the number of equations.\n",
      " |  \n",
      " |  __init__(self, remote=True, server='http://byu.apmonitor.com', name=None)\n",
      " |      Initialize self.  See help(type(self)) for accurate signature.\n",
      " |  \n",
      " |  abs(self, other)\n",
      " |      # Functions\n",
      " |      #  abs(x) absolute value |x|\n",
      " |      #  acos(x) inverse cosine, cos^-1(x)\n",
      " |      #  acosh(x) inverse hyperbolic cosine, cosh^-1(x)\n",
      " |      #  asin(x) inverse sine, sin^-1(x)\n",
      " |      #  asinh(x) inverse hyperbolic sine, sinh^-1(x)\n",
      " |      #  atan(x) inverse tangent, tan^-1(x)\n",
      " |      #  atanh(x) inverse hyperbolic tangent, tanh^-1(x)\n",
      " |      #  cos(x) cosine\n",
      " |      #  erf(x) error function\n",
      " |      #  erfc(x) complementary error function\n",
      " |      #  exp(x) e^x\n",
      " |      #  log(x) log_e (x), natural log\n",
      " |      #  log10(x) log_10 (x), log base 10\n",
      " |      #  sin(x) sine\n",
      " |      #  sinh(x) hyperbolic sine\n",
      " |      #  sqrt(x) square root\n",
      " |      #  tan(x) tangent\n",
      " |      #  tanh(x) hyperbolic tangent\n",
      " |      #  sigmoid(x) sigmoid function\n",
      " |  \n",
      " |  abs2(self, x)\n",
      " |      Generates the absolute value with continuous first and\n",
      " |      second derivatives. The traditional method for absolute value (abs) has\n",
      " |      a point that is not continuously differentiable at an argument value\n",
      " |      of zero and can cause a gradient-based optimizer to fail to converge.\n",
      " |      Usage: y = m.abs2(x)\n",
      " |      Input: GEKKO variable, parameter, or expression\n",
      " |      Output: GEKKO variable\n",
      " |  \n",
      " |  abs3(self, x)\n",
      " |      Generates the absolute value with a binary switch. The traditional method\n",
      " |      for absolute value (abs) has a point that is not continuously differentiable\n",
      " |      at an argument value of zero and can cause a gradient-based optimizer to fail to converge.\n",
      " |      Usage: y = m.abs3(x)\n",
      " |      Input: GEKKO variable, parameter, or expression\n",
      " |      Output: GEKKO variable\n",
      " |  \n",
      " |  acos(self, other)\n",
      " |  \n",
      " |  acosh(self, other)\n",
      " |  \n",
      " |  arx(self, p, y=[], u=[])\n",
      " |      Build a GEKKO from ARX representation.\n",
      " |      Usage: y,u = arx(p,y=[],u=[])\n",
      " |      Inputs:\n",
      " |         parameter dictionary p['a'], p['b'], p['c']\n",
      " |         a (coefficients for a polynomial, na x ny)\n",
      " |         b (coefficients for b polynomial, ny x (nb x nu))\n",
      " |         c (coefficients for output bias, ny)\n",
      " |      Optional inputs:\n",
      " |         y = array of Variables of size ny such as\n",
      " |              y = [self.Var() for i in np.arange(ny)]\n",
      " |         u = array of Parameters or Variables of size nu such as\n",
      " |              u = [self.Var() for i in np.arange(nu)]\n",
      " |      Outputs:\n",
      " |         y = array of Variables of size ny\n",
      " |         u = array of Parameters or Variables of size nu\n",
      " |  \n",
      " |  asin(self, other)\n",
      " |  \n",
      " |  asinh(self, other)\n",
      " |  \n",
      " |  atan(self, other)\n",
      " |  \n",
      " |  atanh(self, other)\n",
      " |  \n",
      " |  axb(self, A, b, x=None, etype='=', sparse=False)\n",
      " |      Create Ax=b, Ax<b, Ax>b, Ax<=b, or Ax>=b models\n",
      " |      Usage: x = m.axb(A,b,etype='=,<,>,<=,>=',sparse=[True,False])\n",
      " |      Input: A = numpy 2D array or list in dense or sparse form\n",
      " |             b = numpy 1D array or list in dense or sparse form\n",
      " |             x = 1D array of gekko variables (optional). If None on entry\n",
      " |                   then the array is created and returned.\n",
      " |             etype = ['=','<','>','>=','<='] for equality or inequality form\n",
      " |             sparse = True if data is in sparse form, otherwise dense\n",
      " |               sparse matrices are stored in COO form with [row,col,value] with\n",
      " |               starting index 1 for optional matrix A and in [row,value] for \n",
      " |               vector b\n",
      " |      Output: GEKKO variables x\n",
      " |  \n",
      " |  bspline(self, x, y, z, x_data, y_data, z_data, data=True, kx=3, ky=3, sf=None)\n",
      " |      Generate a 2D Bspline with continuous first and seconds derivatives\n",
      " |      from 1-D arrays of x_data and y_data coordinates (in strictly ascending order)\n",
      " |      and 2-D z data of size (x.size,y.size). GEKKO variables x, y and z are \n",
      " |      linked with function z=f(x,y) where the function f is a bspline.\n",
      " |      \n",
      " |      Usage: m.bspline(x,y,z,x_data,y_data,z_data,data=True,kx=3,ky=3,sf=None)\n",
      " |      Inputs:\n",
      " |        x,y = independent Gekko parameters or variables as predictors for z\n",
      " |        z   = dependent Gekko variable with z = f(x,y)\n",
      " |        If data is True (default) then the bspline is built from data\n",
      " |          x_data = 1D list or array of x values, size (nx)\n",
      " |          y_data = 1D list or array of y values, size (ny)\n",
      " |          z_data = 2D list or matrix of z values, size (nx,ny)\n",
      " |        If data is False then the bspline knots and coefficients are loaded\n",
      " |          x_data = 1D list or array of x knots, size (nx)\n",
      " |          y_data = 1D list or array of y knots, size (ny)\n",
      " |          z_data = 2D list or matrix of c coefficients, size (nx-kx-1)*(ny-ky-1)\n",
      " |        \n",
      " |        kx = degree of spline in x-direction, default=3\n",
      " |        ky = degree of spline in y-direction, default=3\n",
      " |        sf = smooth factor (sf), only for data=True\n",
      " |          sf controls the tradeoff between smoothness and closeness of fit\n",
      " |          if sf is small, the approximation may follow too much signal noise\n",
      " |          if sf is large, the approximation does not follow the general trend\n",
      " |          a proper sf depends on the data and level of noise\n",
      " |          when sf is None a default value of nx*ny*(0.1)**2 is used\n",
      " |          where 0.1 is the approximate statistical error of each point\n",
      " |          the sf is only used when constructing the bspline (data=True)\n",
      " |      Outputs:\n",
      " |        None\n",
      " |  \n",
      " |  cleanup(self)\n",
      " |      Remove gekko files and the application (temp) directory\n",
      " |  \n",
      " |  clear(self)\n",
      " |      Clear the gekko files but do not delete the application directory\n",
      " |  \n",
      " |  clear_data(self)\n",
      " |      Remove the data (csv) file that contains input data\n",
      " |  \n",
      " |  cos(self, other)\n",
      " |  \n",
      " |  cosh(self, other)\n",
      " |  \n",
      " |  cspline(self, x, y, x_data, y_data, bound_x=False)\n",
      " |      Generate a 1d cubic spline with continuous first and seconds derivatives\n",
      " |      from arrays of x and y data that link to GEKKO variables x and y with a\n",
      " |      constraint that y=f(x).\n",
      " |      \n",
      " |      Inputs:\n",
      " |        x: GEKKO parameter or variable\n",
      " |        y: GEKKO variable\n",
      " |        x_data: array of x data\n",
      " |        y_data: array of y data that matches x_data size\n",
      " |        bound_x: boolean to state if x should be bounded \n",
      " |                 at the upper and lower bounds of x_data to avoid\n",
      " |                 extrapolation error of the cubic spline \n",
      " |                 \n",
      " |      Output: none\n",
      " |  \n",
      " |  delay(self, u, y, steps=1)\n",
      " |      Build a delay with number of time steps between input (u) and output (y)\n",
      " |      with a time series model.\n",
      " |      \n",
      " |      Usage: delay(u,y,steps=1)\n",
      " |        u = delay input\n",
      " |        y = delay output\n",
      " |        steps = integer number of steps (default=1)\n",
      " |  \n",
      " |  erf(self, other)\n",
      " |  \n",
      " |  erfc(self, other)\n",
      " |  \n",
      " |  exp(self, other)\n",
      " |  \n",
      " |  fix(self, var, val=None, pos=None)\n",
      " |      Fix a variable at a specific value so that the solver cannot adjust the\n",
      " |      value.\n",
      " |      \n",
      " |      fix(var,pos=None,val=None)\n",
      " |      \n",
      " |      Inputs:\n",
      " |        var = variable to fix\n",
      " |        val = specified value or None to use default\n",
      " |        pos = position within the horizon or None for all\n",
      " |      \n",
      " |      The var variable must be a Gekko Parameter or Variable. When val==None,\n",
      " |      the current default value is retained. When pos==None, the value is fixed\n",
      " |      over all horizon nodes.\n",
      " |  \n",
      " |  fix_final(self, var, val=None)\n",
      " |      Fix the final condition of a variable so the solver cannot adjust it.\n",
      " |      \n",
      " |      fix_final(var,val=None)\n",
      " |      \n",
      " |      Inputs:\n",
      " |        var = variable to fix\n",
      " |        val = specified value or None to use default\n",
      " |      \n",
      " |      The var variable must be a Gekko Parameter or Variable. When val==None,\n",
      " |      the current default value is retained. The value is fixed only at the\n",
      " |      initial condition. If no val is given, the value from the time shift is used.\n",
      " |  \n",
      " |  fix_initial(self, var, val=None)\n",
      " |      Fix the initial condition of a variable so the solver cannot adjust it.\n",
      " |      \n",
      " |      fix_initial(var,val=None)\n",
      " |      \n",
      " |      Inputs:\n",
      " |        var = variable to fix\n",
      " |        val = specified value or None to use default\n",
      " |      \n",
      " |      The var variable must be a Gekko Parameter or Variable. When val==None,\n",
      " |      the current default value is retained. The value is fixed only at the\n",
      " |      initial condition. If no val is given, the value from the time shift is used.\n",
      " |      \n",
      " |      Variables have fixed initial conditions by default. An example of when this\n",
      " |      function is needed is after a call to the function free but when the initial\n",
      " |      condition should still be fixed.\n",
      " |  \n",
      " |  free(self, var, pos=None)\n",
      " |      Free a variable so that the solver can calculate the value to\n",
      " |      satisfy equation constraints or minimize/maximize an objective.\n",
      " |      \n",
      " |      free(var,pos=None)\n",
      " |      \n",
      " |      Inputs:\n",
      " |        var = variable to free (calculate)\n",
      " |        pos = position within the horizon or None for all\n",
      " |      \n",
      " |      The var variable must be a Gekko Parameter or Variable.\n",
      " |  \n",
      " |  free_final(self, var)\n",
      " |      Free the final condition of a parameter so the solver can adjust it.\n",
      " |      \n",
      " |      free_final(var)\n",
      " |      \n",
      " |      Inputs:\n",
      " |        var = variable to free\n",
      " |      \n",
      " |      The var variable must be a Gekko Parameter or Variable.\n",
      " |  \n",
      " |  free_initial(self, var)\n",
      " |      Free the initial condition of a variable so the solver can adjust it.\n",
      " |      \n",
      " |      free_initial(var)\n",
      " |      \n",
      " |      Inputs:\n",
      " |        var = variable to free\n",
      " |      \n",
      " |      The var variable must be a Gekko Parameter or Variable.\n",
      " |      \n",
      " |      Variables have fixed initial conditions by default. The default to free\n",
      " |      the initial condition is also available when declaring the variable as\n",
      " |          x = m.Var(fixed_initial=False)\n",
      " |  \n",
      " |  get_names(self)\n",
      " |      Matches names of constants, parameters, intermediates and variables\n",
      " |      to the python name from scope __main__. Name is converted to lowercase.\n",
      " |      The function cannot be used after a variable is used (including in \n",
      " |      defining intermediate equations). USE WITH CAUTION.\n",
      " |  \n",
      " |  gk_logic_tree(self)\n",
      " |  \n",
      " |  if2(self, condition, x1, x2)\n",
      " |      IF conditional with complementarity constraint switch variable.\n",
      " |      The traditional method for IF statements is not continuously\n",
      " |      differentiable and can cause a gradient-based optimizer to fail\n",
      " |      to converge.\n",
      " |      Usage: y = m.if2(condition,x1,x2)\n",
      " |      Inputs:\n",
      " |         condition: GEKKO variable, parameter, or expression\n",
      " |         x1 and x2: GEKKO variable, parameter, or expression\n",
      " |      Output: GEKKO variable y = x1 when condition<0\n",
      " |                             y = x2 when condition>=0\n",
      " |  \n",
      " |  if3(self, condition, x1, x2)\n",
      " |      IF conditional with a binary switch variable.\n",
      " |      The traditional method for IF statements is not continuously\n",
      " |      differentiable and can cause a gradient-based optimizer to fail\n",
      " |      to converge.\n",
      " |      Usage: y = m.if3(condition,x1,x2)\n",
      " |      Inputs:\n",
      " |         condition: GEKKO variable, parameter, or expression\n",
      " |         x1 and x2: GEKKO variable, parameter, or expression\n",
      " |      Output: GEKKO variable y = x1 when condition<0\n",
      " |                             y = x2 when condition>=0\n",
      " |  \n",
      " |  integral(self, x)\n",
      " |      Integral of a constant, parameter, intermediate, variable, or expression.\n",
      " |      Usage: y = m.integral(x)\n",
      " |      Inputs:\n",
      " |         x: GEKKO variable, parameter, or expression\n",
      " |      Output:\n",
      " |         y: GEKKO variable that is the integral up to that time in the horizon\n",
      " |  \n",
      " |  like(self, one, two)\n",
      " |      #define comparison of options between APM and GEKKO\n",
      " |      #to avoid false positive when floats are off by a little\n",
      " |  \n",
      " |  load_JSON(self)\n",
      " |      ## options.JSON has all APM options\n",
      " |  \n",
      " |  load_results(self)\n",
      " |      ## results.json has variable value results\n",
      " |  \n",
      " |  log(self, other)\n",
      " |  \n",
      " |  log10(self, other)\n",
      " |  \n",
      " |  max2(self, x1, x2)\n",
      " |      Generates the maximum value with continuous first and\n",
      " |      second derivatives. The traditional method for max value (max) is not\n",
      " |      continuously differentiable and can cause a gradient-based optimizer\n",
      " |      to fail to converge.\n",
      " |      Usage: y = m.max2(x1,x2)\n",
      " |      Input: GEKKO variable, parameter, or expression\n",
      " |      Output: GEKKO variable\n",
      " |  \n",
      " |  max3(self, x1, x2)\n",
      " |      Generates the maximum value with a binary switch variable.\n",
      " |      The traditional method for max value (max) is not continuously\n",
      " |      differentiable and can cause a gradient-based optimizer to fail\n",
      " |      to converge.\n",
      " |      Usage: y = m.max3(x1,x2)\n",
      " |      Input: GEKKO variable, parameter, or expression\n",
      " |      Output: GEKKO variable\n",
      " |  \n",
      " |  min2(self, x1, x2)\n",
      " |      Generates the minimum value with continuous first and\n",
      " |      second derivatives. The traditional method for min value (min) is not\n",
      " |      continuously differentiable and can cause a gradient-based optimizer\n",
      " |      to fail to converge.\n",
      " |      Usage: y = m.min2(x1,x2)\n",
      " |      Input: GEKKO variable, parameter, or expression\n",
      " |      Output: GEKKO variable\n",
      " |  \n",
      " |  min3(self, x1, x2)\n",
      " |      Generates the minimum value with a binary switch variable.\n",
      " |      The traditional method for min value (min) is not continuously\n",
      " |      differentiable and can cause a gradient-based optimizer to fail\n",
      " |      to converge.\n",
      " |      Usage: y = m.min3(x1,x2)\n",
      " |      Input: GEKKO variable, parameter, or expression\n",
      " |      Output: GEKKO variable\n",
      " |  \n",
      " |  name_check(self)\n",
      " |  \n",
      " |  open_folder(self)\n",
      " |      Opens the backend folder that holds the APM model and csv files that \n",
      " |      Gekko writes.  Mainly used for debugging.\n",
      " |  \n",
      " |  periodic(self, v)\n",
      " |      Makes the variable argument periodic by adding an equation to\n",
      " |      constrains v[end] = v[0]. This does not affect the default behavior of\n",
      " |      fixing initial conditions (v[0]).\n",
      " |  \n",
      " |  pwl(self, x, y, x_data, y_data, bound_x=False)\n",
      " |      Generate a 1d piecewise linear function with continuous derivatives\n",
      " |      from vectors of x and y data that link to GEKKO variables x and y with a\n",
      " |      constraint that y=f(x) with piecewise linear units.\n",
      " |      \n",
      " |      Inputs:\n",
      " |        x: GEKKO parameter or variable\n",
      " |        y: GEKKO variable\n",
      " |        x_data: array of x data\n",
      " |        y_data: array of y data that matches x_data size\n",
      " |        bound_x: boolean to state if x should be bounded \n",
      " |                 at the upper and lower bounds of x_data to avoid\n",
      " |                 extrapolation error of the piecewise linear region. \n",
      " |                 \n",
      " |      Output: none\n",
      " |  \n",
      " |  qobj(self, b, A=[], x=None, otype='min', sparse=False)\n",
      " |      Create quadratic objective  = 0.5 x^T A x + c^T x\n",
      " |      Usage: x = m.qobj(c,Q=[2d array],otype=['min','max'],sparse=[True,False])\n",
      " |      Input: b = numpy 1D array or list in dense or sparse form\n",
      " |             A = numpy 2D array or list in dense or sparse form\n",
      " |             x = array of gekko variables (optional). If None on entry\n",
      " |                   then the array is created and returned.\n",
      " |             etype = ['=','<','>','>=','<='] for equality or inequality form\n",
      " |             sparse = True if data is in sparse form, otherwise dense\n",
      " |               sparse matrices are stored in COO form with [row,col,value] with\n",
      " |               starting index 1 for optional matrix A and in [row,value] for \n",
      " |               vector b\n",
      " |             sparse matrices must have 3 columns\n",
      " |      Output: GEKKO variables x\n",
      " |  \n",
      " |  sigmoid(self, other)\n",
      " |  \n",
      " |  sign2(self, x)\n",
      " |      Generates the sign of an argument with MPCC. The traditional method\n",
      " |      for signum (sign) is not continuously differentiable and can cause\n",
      " |      a gradient-based optimizer to fail to converge.\n",
      " |      Usage: y = m.sign2(x)\n",
      " |      Input: GEKKO variable, parameter, or expression\n",
      " |      Output: GEKKO variable\n",
      " |  \n",
      " |  sign3(self, x)\n",
      " |      Generates the sign of an argument with binary switching variable.\n",
      " |      The traditional method for signum (sign) is not continuously differentiable\n",
      " |      and can cause a gradient-based optimizer to fail to converge.\n",
      " |      Usage: y = m.sign3(x)\n",
      " |      Input: GEKKO variable, parameter, or expression\n",
      " |      Output: GEKKO variable\n",
      " |  \n",
      " |  sin(self, other)\n",
      " |  \n",
      " |  sinh(self, other)\n",
      " |  \n",
      " |  solve(self, disp=True, debug=1, GUI=False, **kwargs)\n",
      " |      Solve the optimization problem.\n",
      " |      \n",
      " |      This function has these substeps:\n",
      " |      -Validates the model and write .apm file (if .apm not supplied)\n",
      " |      -Validate and write .csv file (if none provided)\n",
      " |      -Write options to dbs file\n",
      " |      -Solve the problem using the apm.exe commandline interface.\n",
      " |      -Load results into python variables.\n",
      " |  \n",
      " |  sos1(self, values)\n",
      " |      Special Ordered Set (SOS), Type-1 \n",
      " |      Chose one from a set of possible numeric values that are  \n",
      " |      mutually exclusive options. The SOS is a combination of binary \n",
      " |      variables with only one that is allowed to be non-zero. The binary \n",
      " |      variable (bi) signals which option is selected.\n",
      " |      \n",
      " |      values = [y0,y1,...,yn]\n",
      " |      b0 + b1 + ... + bn = 1, 0<=bi<=1\n",
      " |      y = y0*b0 + y1*b1 + ... + yn*bn\n",
      " |      \n",
      " |      Usage: y = m.sos1(values)\n",
      " |      Input: values (possible y numeric values as a list)\n",
      " |      Output: y (GEKKO variable)\n",
      " |  \n",
      " |  sqrt(self, other)\n",
      " |  \n",
      " |  state_space(self, A, B, C, D=None, E=None, discrete=False, dense=False)\n",
      " |      Build a GEKKO from SS representation.\n",
      " |      Give A,B,C (D,E optional) returns:\n",
      " |      m (GEKKO model)\n",
      " |      x (states)\n",
      " |      y (outputs)\n",
      " |      u (inputs)\n",
      " |      \n",
      " |      E dx/dt = Ax + Bu\n",
      " |            y = Cx + Du\n",
      " |  \n",
      " |  sum(self, x)\n",
      " |      Summation using APM object.\n",
      " |      Usage: y = m.sum(x)\n",
      " |      Input: Numpy array or List of GEKKO variables, parameters,\n",
      " |             constants, intermediates, or expressions\n",
      " |      Output: GEKKO variable\n",
      " |  \n",
      " |  sysid(self, t, u, y, na=1, nb=1, nk=0, shift='calc', scale=True, diaglevel=0, pred='model', objf=100)\n",
      " |      Identification of linear time-invariant models\n",
      " |      \n",
      " |      y,p,K = sysid(t,u,y,na,nb,shift=0,pred='model',objf=1)\n",
      " |          \n",
      " |      Input:     t = time data\n",
      " |                 u = input data for the regression\n",
      " |                 y = output data for the regression   \n",
      " |                 na   = number of output coefficients (default=1)\n",
      " |                 nb   = number of input coefficients (default=1)\n",
      " |                 nk   = input delay steps (default=0)\n",
      " |                 shift (optional) = \n",
      " |                    'none' (no shift)\n",
      " |                    'init' (initial pt),\n",
      " |                    'mean' (mean center)\n",
      " |                    'calc' (calculate c)\n",
      " |                 scale (optional) = \n",
      " |                    scale data to between zero to one unless\n",
      " |                      data range is already less than one\n",
      " |                 pred (option) = \n",
      " |                    'model' for output error regression form, implicit solution\n",
      " |                    'meas' for ARX regression form, explicit solution\n",
      " |                    Using 'model' favors an unbiased model prediction but\n",
      " |                      can require more time to compute, especially for large\n",
      " |                      data sets\n",
      " |                    Using 'meas' computes the coefficients of the time series\n",
      " |                      model with an explicit solution\n",
      " |                 objf = objective scaling factor\n",
      " |                    when pred='model':\n",
      " |                       minimize objf*(model-meas)**2 + 1e-3 * (a^2 + b^2 + c^2)\n",
      " |                    when pred='meas':\n",
      " |                       minimize (model-meas)**2\n",
      " |                 diaglevel = display solver output and diagnostics (0-6)\n",
      " |                 \n",
      " |      Output:    returns\n",
      " |                 ypred (predicted outputs)\n",
      " |                 p as coefficient dictionary with keys 'a','b','c'\n",
      " |                 K gain matrix\n",
      " |  \n",
      " |  tan(self, other)\n",
      " |  \n",
      " |  tanh(self, other)\n",
      " |  \n",
      " |  verify_input_options(self)\n",
      " |  \n",
      " |  vsum(self, x)\n",
      " |      Summation of variable in the data or time direction. This is\n",
      " |      similar to an integral but only does the summation of all points,\n",
      " |      not the integral area that considers time intervals.\n",
      " |  \n",
      " |  ----------------------------------------------------------------------\n",
      " |  Data descriptors defined here:\n",
      " |  \n",
      " |  __dict__\n",
      " |      dictionary for instance variables (if defined)\n",
      " |  \n",
      " |  __weakref__\n",
      " |      list of weak references to the object (if defined)\n",
      "\n"
     ]
    }
   ],
   "source": [
    "## For help on GEKKO\n",
    "help(m)"
   ]
  },
  {
   "cell_type": "markdown",
   "id": "17e12b6d-2598-4bbc-841b-d018d2d520ac",
   "metadata": {
    "deletable": false,
    "editable": false,
    "nbgrader": {
     "cell_type": "markdown",
     "checksum": "daa3e76f1b6936b86d08955f0a5e52f0",
     "grade": false,
     "grade_id": "cell-9f7939d1d68715d2",
     "locked": true,
     "schema_version": 3,
     "solution": false,
     "task": false
    }
   },
   "source": [
    "### Exercise: \n",
    "\n",
    "Consider the function $f_\\alpha:\\mathbb{R}^3\\rightarrow \\mathbb{R}$ as is given by\n",
    "\n",
    "$$f_\\alpha(x,y,z)=xyz^2+x^2+x+y^3+\\alpha z.\n",
    "$$\n",
    "where $\\alpha$ is a given constant.\n"
   ]
  },
  {
   "cell_type": "markdown",
   "id": "8ff3ac94-083a-4757-bcd5-2b10199a216f",
   "metadata": {
    "deletable": false,
    "editable": false,
    "nbgrader": {
     "cell_type": "markdown",
     "checksum": "5e6a6712ed9808c19f371a4dd5c51536",
     "grade": false,
     "grade_id": "cell-5700d664a57dfbe5",
     "locked": true,
     "schema_version": 3,
     "solution": false,
     "task": false
    }
   },
   "source": [
    "#### part a\n",
    "It is clear that $f_\\alpha(0,0,0)=0$ for all $\\alpha$. \n",
    "Use <code>GEKKO</code> to find a solution to $f_\\alpha(x,y,z)=0$ and where $x=0.5$. \n"
   ]
  },
  {
   "cell_type": "code",
   "execution_count": 59,
   "id": "05ca3410-303f-414d-bcf3-1b39c35d8386",
   "metadata": {
    "deletable": false,
    "nbgrader": {
     "cell_type": "code",
     "checksum": "ba73bd6f235c2bd97932624ce7256347",
     "grade": false,
     "grade_id": "cell-20d6c5a01797eeda",
     "locked": false,
     "schema_version": 3,
     "solution": true,
     "task": false
    }
   },
   "outputs": [
    {
     "name": "stdout",
     "output_type": "stream",
     "text": [
      "[-0.68342574173] [-0.86766858165]\n"
     ]
    }
   ],
   "source": [
    "from gekko import GEKKO\n",
    "\n",
    "# YOUR CODE HERE\n",
    "alpha=0.2\n",
    "x=0.5\n",
    "m=GEKKO(remote=False)\n",
    "y=m.Var(-1)\n",
    "z=m.Var(-1)\n",
    "m.Equation(x*y*z**2+x**2+x+y**3+alpha*z==0)\n",
    "m.solve(disp=False)\n",
    "print(y.value,z.value)"
   ]
  },
  {
   "cell_type": "code",
   "execution_count": 60,
   "id": "a8739226",
   "metadata": {},
   "outputs": [
    {
     "data": {
      "text/plain": [
       "0.19999999764211288"
      ]
     },
     "execution_count": 60,
     "metadata": {},
     "output_type": "execute_result"
    }
   ],
   "source": [
    "# use the answer to get to the answer...\n",
    "x=0.5\n",
    "y=-0.71262967302\n",
    "z=-0.80007259102\n",
    "(x*y*z**2+x**2+x+y**3)/(-z)\n"
   ]
  },
  {
   "cell_type": "markdown",
   "id": "9b536422",
   "metadata": {
    "deletable": false,
    "editable": false,
    "nbgrader": {
     "cell_type": "markdown",
     "checksum": "5e5b44e880b4598c08ce7f45988f816d",
     "grade": false,
     "grade_id": "cell-c51b09134b75b65b",
     "locked": true,
     "schema_version": 3,
     "solution": false,
     "task": false
    }
   },
   "source": [
    "If your answer is\n",
    "\n",
    "[-0.71262967302, -0.80007259102]\n",
    "\n",
    "then you're fine! By the way, is this solution unique? "
   ]
  },
  {
   "cell_type": "markdown",
   "id": "7c2146e3-10a3-4c64-bc88-e14fc046ddb9",
   "metadata": {
    "deletable": false,
    "editable": false,
    "nbgrader": {
     "cell_type": "markdown",
     "checksum": "92311b34f81b6622e7588690800e986d",
     "grade": false,
     "grade_id": "cell-83fc4bc7a6102667",
     "locked": true,
     "schema_version": 3,
     "solution": false,
     "task": false
    }
   },
   "source": [
    "#### part b\n",
    "* Determine the gradient $\\nabla f_\\alpha(x,y,z)$ by hand. \n",
    "* Determine a zero of $\\nabla f_1$.\n",
    "* Use <code>gekko</code> to solve $\\nabla f_\\alpha(x,y,z)=0$ for $(x,y,z)$ for 20 regular paced values in the interval $[0,1]$. In order to do so, first create a function <code>solve_zero_gradient</code> that calculates a zero for a given $\\alpha$. Then gather the information. "
   ]
  },
  {
   "cell_type": "code",
   "execution_count": 61,
   "id": "60a908e7-11dc-4667-8b15-8fa4ce024cdd",
   "metadata": {
    "deletable": false,
    "nbgrader": {
     "cell_type": "code",
     "checksum": "fd219c9f57c700a62e5f8d4e48522fbf",
     "grade": false,
     "grade_id": "cell-e6f0825a54b9f88d",
     "locked": false,
     "schema_version": 3,
     "solution": true,
     "task": false
    }
   },
   "outputs": [
    {
     "name": "stdout",
     "output_type": "stream",
     "text": [
      "[-0.82545540776, 0.56367825878, 1.0745957111]\n"
     ]
    }
   ],
   "source": [
    "# Calculate a zero of gradient f_1\n",
    "from gekko import GEKKO\n",
    "alpha = 1\n",
    "m = GEKKO(remote=False)  \n",
    "# YOUR CODE HERE \n",
    "x=m.Var(1)\n",
    "y=m.Var(1)\n",
    "z=m.Var(1)\n",
    "m.Equations([2*x + y*z**2 + 1 == 0, x*z**2 + 3*y**2 == 0, alpha+(2*x*y*z) == 0])\n",
    "m.solve(disp=False)\n",
    "print([x.value[0],y.value[0],z.value[0]]) # print solution"
   ]
  },
  {
   "cell_type": "code",
   "execution_count": 62,
   "id": "45da0c02-86aa-44b1-b33e-7cab18606025",
   "metadata": {
    "deletable": false,
    "nbgrader": {
     "cell_type": "code",
     "checksum": "f08e963e5cadc5ede3800b134eef4679",
     "grade": false,
     "grade_id": "cell-60ce1c6dd6b26b5b",
     "locked": false,
     "schema_version": 3,
     "solution": true,
     "task": false
    }
   },
   "outputs": [],
   "source": [
    "# Define function that returns a solution (if at all) for a given value of alpha\n",
    "def solve_zero_gradient(alpha):\n",
    "    '''For given alpha solve for (x,y,z) with grad f(x,y,z)=0'''\n",
    "    # input: scalar alpha\n",
    "    # output:  x, y, z value\n",
    "    \n",
    "    \n",
    "    # YOUR CODE HERE\n",
    "    m=GEKKO(remote=False)\n",
    "    x=m.Var(1)\n",
    "    y=m.Var(1)\n",
    "    z=m.Var(1)\n",
    "    m.Equations([y*z**2+2*x+1==0,x*(z**2)+3*(y**2)==0,2*x*y*z+alpha==0])\n",
    "    m.solve(disp=False)\n",
    "    return x.value[0],y.value[0],z.value[0]\n"
   ]
  },
  {
   "cell_type": "code",
   "execution_count": 63,
   "id": "b1a8d951-e238-4f87-9255-294fafff0811",
   "metadata": {
    "deletable": false,
    "nbgrader": {
     "cell_type": "code",
     "checksum": "347a61baa69b1c58ad69fce48da5a35d",
     "grade": false,
     "grade_id": "cell-7abea1e79ab8812d",
     "locked": false,
     "schema_version": 3,
     "solution": true,
     "task": false
    }
   },
   "outputs": [
    {
     "data": {
      "text/plain": [
       "array([[-5.00000000e-01,  1.27221778e-04,  9.80604160e-04],\n",
       "       [-5.09153550e-01,  1.45920294e-01,  3.54202758e-01],\n",
       "       [-5.24573071e-01,  2.04828973e-01,  4.89834104e-01],\n",
       "       [-5.42557551e-01,  2.48758003e-01,  5.84944663e-01],\n",
       "       [-5.61669859e-01,  2.84765652e-01,  6.58123914e-01],\n",
       "       [-5.81185592e-01,  3.15670632e-01,  7.17195223e-01],\n",
       "       [-6.00721779e-01,  3.42953444e-01,  7.66406373e-01],\n",
       "       [-6.20073348e-01,  3.67507445e-01,  8.08360785e-01],\n",
       "       [-6.39131859e-01,  3.89919778e-01,  8.44774234e-01],\n",
       "       [-6.57841996e-01,  4.10599578e-01,  8.76835707e-01],\n",
       "       [-6.76182545e-01,  4.29845041e-01,  9.05400090e-01],\n",
       "       [-6.94144967e-01,  4.47880016e-01,  9.31101925e-01],\n",
       "       [-7.11734061e-01,  4.64878084e-01,  9.54422844e-01],\n",
       "       [-7.28959612e-01,  4.80976324e-01,  9.75736595e-01],\n",
       "       [-7.45834437e-01,  4.96285170e-01,  9.95338282e-01],\n",
       "       [-7.62372824e-01,  5.10895015e-01,  1.01346462e+00],\n",
       "       [-7.78589582e-01,  5.24880858e-01,  1.03030799e+00],\n",
       "       [-7.94499456e-01,  5.38305662e-01,  1.04602670e+00],\n",
       "       [-8.10116806e-01,  5.51222872e-01,  1.06075243e+00],\n",
       "       [-8.25455408e-01,  5.63678259e-01,  1.07459571e+00]])"
      ]
     },
     "execution_count": 63,
     "metadata": {},
     "output_type": "execute_result"
    }
   ],
   "source": [
    "# Calculate for m values of alpha in [0.,1.] corresponding solutions for the variables x,y,z such that grad f_alpha(x,y,z)=0\n",
    "# This will specify an mx3 array of solutions solutions[]\n",
    "# for the solutions found, plot the x coordinates versus the y coordinates\n",
    "\n",
    "import matplotlib.pyplot as plt\n",
    "\n",
    "\n",
    "m=20\n",
    "alpha = np.linspace(0.,1.,m)\n",
    "m= len(alpha)\n",
    "solutions = np.zeros((m,3))\n",
    "# YOUR CODE HERE\n",
    "for i in range(20):\n",
    "    solutions[i,:]=solve_zero_gradient(alpha[i]) \n",
    "\n",
    "solutions\n",
    "    "
   ]
  },
  {
   "cell_type": "code",
   "execution_count": 64,
   "id": "b2e73738",
   "metadata": {},
   "outputs": [
    {
     "data": {
      "text/plain": [
       "True"
      ]
     },
     "execution_count": 64,
     "metadata": {},
     "output_type": "execute_result"
    }
   ],
   "source": [
    "#Totally not stolen from mikel. Let's call it... collaboration.\n",
    "correctx = [float(x) for x in \"-0.5 -0.50915355 -0.52457305 -0.54255754 -0.56166986 -0.58118559 -0.60072178 -0.62007335 -0.63913186 -0.65784284 -0.67618258 -0.69414497 -0.71173406 -0.72895961 -0.74583438 -0.76237282 -0.77858958 -0.79449946 -0.8101168  -0.82545541\".split()]\n",
    "\n",
    "np.allclose(solutions[:,0], correctx)"
   ]
  },
  {
   "cell_type": "markdown",
   "id": "ba8fa96a",
   "metadata": {},
   "source": [
    "Check your solutions for the x coordinate. These should agree with the following\n",
    "\n",
    "$[-0.5        -0.50915355 -0.52457305 -0.54255754 -0.56166986 -0.58118559\n",
    " -0.60072178 -0.62007335 -0.63913186 -0.65784284 -0.67618258 -0.69414497\n",
    " -0.71173406 -0.72895961 -0.74583438 -0.76237282 -0.77858958 -0.79449946\n",
    " -0.8101168  -0.82545541]\n",
    "$"
   ]
  },
  {
   "cell_type": "code",
   "execution_count": 65,
   "id": "5fc4e588",
   "metadata": {},
   "outputs": [
    {
     "data": {
      "image/png": "[encoded data removed]",
      "text/plain": [
       "<Figure size 576x576 with 1 Axes>"
      ]
     },
     "metadata": {
      "needs_background": "light"
     },
     "output_type": "display_data"
    }
   ],
   "source": [
    "# Plotting your solution 3D\n",
    "fig = plt.figure(figsize = (8,8))\n",
    "ax = plt.axes(projection='3d')\n",
    "ax.grid()\n",
    "\n",
    "ax.plot3D(solutions[:,0],solutions[:,1],solutions[:,2])\n",
    "ax.set_title('3D Solution Plot')\n",
    "\n",
    "# Set axes label\n",
    "ax.set_xlabel('x', labelpad=20)\n",
    "ax.set_ylabel('y', labelpad=20)\n",
    "ax.set_zlabel('x', labelpad=20)\n",
    "\n",
    "plt.show()"
   ]
  },
  {
   "cell_type": "code",
   "execution_count": 66,
   "id": "98b54514-fe6a-496f-8dbe-4351976ea28c",
   "metadata": {},
   "outputs": [
    {
     "data": {
      "image/png": "[encoded data removed]",
      "text/plain": [
       "<Figure size 432x288 with 3 Axes>"
      ]
     },
     "metadata": {
      "needs_background": "light"
     },
     "output_type": "display_data"
    }
   ],
   "source": [
    "\n",
    "import matplotlib.pyplot as plt\n",
    "fig, axs = plt.subplots(3,1)\n",
    "axs[0].plot(solutions[:,0],solutions[:,1])\n",
    "axs[0].set_title('x vs y')\n",
    "\n",
    "axs[1].plot(solutions[:,0],solutions[:,2])\n",
    "axs[1].set_title('x vs z')\n",
    "\n",
    "axs[2].plot(solutions[:,1],solutions[:,2])\n",
    "axs[2].set_title('y vs z')\n",
    "#plt.axis('equal')\n",
    "\n",
    "fig.tight_layout()\n",
    "#plt.grid()\n",
    "plt.show()\n",
    "\n"
   ]
  },
  {
   "cell_type": "markdown",
   "id": "08f6e1ee-985a-4369-b6d0-70017060aa0b",
   "metadata": {
    "deletable": false,
    "editable": false,
    "nbgrader": {
     "cell_type": "markdown",
     "checksum": "bae2bdb8513064ca7429d1f20180fdf4",
     "grade": false,
     "grade_id": "cell-5198e35c3fda8b5c",
     "locked": true,
     "schema_version": 3,
     "solution": false,
     "task": false
    }
   },
   "source": [
    "### 2. Working with <code> numdifftools </code>\n",
    "\n",
    "Above it was easy to calculate the derivatives by hand. But in many applications you may need to turn to numerical differentiation. Here you will learn how to use software, in this case <code>numdifftools</code>, to calculate derivatives. Using these numerical tools can make computations in practice a lot easier. However, basic theoretic understanding of what derivatives in different settings mean is still essential!\n",
    "\n",
    "#### 2.1 Numdifftools package\n",
    "First you need to make sure you have <code>numdifftools</code> installed. This package contains tools to calculate derivatives of (multivariate) functions, including gradients and Hessian matrices. Check if the package is already available by running the cell below."
   ]
  },
  {
   "cell_type": "code",
   "execution_count": 67,
   "id": "a33d7250",
   "metadata": {},
   "outputs": [
    {
     "name": "stdout",
     "output_type": "stream",
     "text": [
      "Requirement already satisfied: numdifftools in /Users/simeon/opt/anaconda3/lib/python3.9/site-packages (0.9.40)\n",
      "Requirement already satisfied: numpy>=1.9 in /Users/simeon/opt/anaconda3/lib/python3.9/site-packages (from numdifftools) (1.21.5)\n",
      "Requirement already satisfied: statsmodels>=0.6 in /Users/simeon/opt/anaconda3/lib/python3.9/site-packages (from numdifftools) (0.13.2)\n",
      "Requirement already satisfied: algopy>=0.4 in /Users/simeon/opt/anaconda3/lib/python3.9/site-packages (from numdifftools) (0.5.7)\n",
      "Requirement already satisfied: scipy>=0.8 in /Users/simeon/opt/anaconda3/lib/python3.9/site-packages (from numdifftools) (1.7.3)\n",
      "Requirement already satisfied: packaging>=21.3 in /Users/simeon/opt/anaconda3/lib/python3.9/site-packages (from statsmodels>=0.6->numdifftools) (21.3)\n",
      "Requirement already satisfied: pandas>=0.25 in /Users/simeon/opt/anaconda3/lib/python3.9/site-packages (from statsmodels>=0.6->numdifftools) (1.4.2)\n",
      "Requirement already satisfied: patsy>=0.5.2 in /Users/simeon/opt/anaconda3/lib/python3.9/site-packages (from statsmodels>=0.6->numdifftools) (0.5.2)\n",
      "Requirement already satisfied: pyparsing!=3.0.5,>=2.0.2 in /Users/simeon/opt/anaconda3/lib/python3.9/site-packages (from packaging>=21.3->statsmodels>=0.6->numdifftools) (3.0.4)\n",
      "Requirement already satisfied: python-dateutil>=2.8.1 in /Users/simeon/opt/anaconda3/lib/python3.9/site-packages (from pandas>=0.25->statsmodels>=0.6->numdifftools) (2.8.2)\n",
      "Requirement already satisfied: pytz>=2020.1 in /Users/simeon/opt/anaconda3/lib/python3.9/site-packages (from pandas>=0.25->statsmodels>=0.6->numdifftools) (2021.3)\n",
      "Requirement already satisfied: six in /Users/simeon/opt/anaconda3/lib/python3.9/site-packages (from patsy>=0.5.2->statsmodels>=0.6->numdifftools) (1.16.0)\n",
      "Note: you may need to restart the kernel to use updated packages.\n"
     ]
    }
   ],
   "source": [
    "pip install numdifftools"
   ]
  },
  {
   "cell_type": "code",
   "execution_count": 68,
   "id": "673b4f5d-3a4e-4922-8dcd-f3234c82b272",
   "metadata": {
    "deletable": false,
    "editable": false,
    "nbgrader": {
     "cell_type": "code",
     "checksum": "54824bad7722bae5f11ebe2b31611d1d",
     "grade": false,
     "grade_id": "cell-5f5778d5878915ba",
     "locked": true,
     "schema_version": 3,
     "solution": false,
     "task": false
    }
   },
   "outputs": [],
   "source": [
    "import numdifftools as nd\n",
    "import random\n",
    "import numpy as np\n",
    "import matplotlib\n",
    "import matplotlib.pyplot as plt"
   ]
  },
  {
   "cell_type": "markdown",
   "id": "56d7f39a-a36b-4bd0-af9e-a8b675cf726d",
   "metadata": {
    "deletable": false,
    "editable": false,
    "nbgrader": {
     "cell_type": "markdown",
     "checksum": "d39b0350c6f4bba1039251330c732d82",
     "grade": false,
     "grade_id": "cell-c202183af1a4e20f",
     "locked": true,
     "schema_version": 3,
     "solution": false,
     "task": false
    }
   },
   "source": [
    "If you received an error, you'll most probably still need to install the package. How to do this, and other information about the package can be found here:\n",
    "\n",
    "* Information for installation: https://numdifftools.readthedocs.io/en/v0.9.39/ \n",
    "* Information about the numerical methods used: https://numdifftools.readthedocs.io/en/latest/topics/index.html\n",
    "\n",
    "If you work with Google's Colab\n",
    "The computation of derivatives with <code>numpydifftools</code> is very natural. See the example below. The <code>numdifftools</code> package does well on classes of regular functions. Where <code>np.tanh</code> is written there can be any reasonable univariate real valued function $\\mathbb{R}\\rightarrow \\mathbb{R}$.  \n",
    "\n",
    "Do realize, however, that it is a *numerical* tool, so instances may arise in which you do not get the expected results. "
   ]
  },
  {
   "cell_type": "markdown",
   "id": "90869349-da1a-4f69-a41e-d42b4250149d",
   "metadata": {
    "deletable": false,
    "editable": false,
    "nbgrader": {
     "cell_type": "markdown",
     "checksum": "3cc11ce6caed67ad54e37d44ca6d360a",
     "grade": false,
     "grade_id": "cell-a1cad5d784bfb003",
     "locked": true,
     "schema_version": 3,
     "solution": false,
     "task": false
    }
   },
   "source": [
    "#### **Example 2.1**\n",
    "We will apply numerical differentiation to the $\\tanh$ function\n",
    "\n",
    "$$\\tanh(x)=\\frac{e^x-e^{-x}}{e^{x}+e^{-x}}.\n",
    "$$\n",
    "\n",
    "This function plays a very important role in machine learning applications, as *activation function* in neural networks. See how easy it is to generate graphs of the (higher order) derivatives."
   ]
  },
  {
   "cell_type": "code",
   "execution_count": 69,
   "id": "cf33a0db-6597-44e6-9743-f8cfe1b0519c",
   "metadata": {
    "deletable": false,
    "editable": false,
    "nbgrader": {
     "cell_type": "code",
     "checksum": "b839d4a767166ac367e799860f889c3a",
     "grade": false,
     "grade_id": "cell-d310804d7e9ebf12",
     "locked": true,
     "schema_version": 3,
     "solution": false,
     "task": false
    }
   },
   "outputs": [
    {
     "data": {
      "image/png": "[encoded data removed]",
      "text/plain": [
       "<Figure size 432x288 with 1 Axes>"
      ]
     },
     "metadata": {
      "needs_background": "light"
     },
     "output_type": "display_data"
    }
   ],
   "source": [
    "# Calculate the first 10 derivatives for tanh in 100 points in the interval [-2,2], and plot the results:\n",
    "\n",
    "x = np.linspace(-2, 2, 100)\n",
    "for i in range(10):\n",
    "    df = nd.Derivative(np.tanh, n=i)\n",
    "    \n",
    "    y = df(x)\n",
    "    h = plt.plot(x, y/np.abs(y).max())"
   ]
  },
  {
   "cell_type": "markdown",
   "id": "b8289269-af81-4622-8abd-ff400652ff36",
   "metadata": {
    "deletable": false,
    "editable": false,
    "nbgrader": {
     "cell_type": "markdown",
     "checksum": "63c98ecad8a0767d4040cd17a0cfead6",
     "grade": false,
     "grade_id": "cell-150d79c8f36f2cdd",
     "locked": true,
     "schema_version": 3,
     "solution": false,
     "task": false
    }
   },
   "source": [
    "#### 2.2 Calculating derivatives of multivariate functions\n",
    "\n",
    "Calculating gradients and Hessian matrices for multivariate functions is natural as well. For example, consider the function $f:\\mathbb{R}^2\\rightarrow\\mathbb{R}$ defined by\n",
    "$$f(x,y)=x^2+y^3x.\n",
    "$$\n",
    "We will calculate $\\nabla f (1,1)$ and the Hessian matrix at $(1,1)$, $H_f(1,1)$.\n"
   ]
  },
  {
   "cell_type": "code",
   "execution_count": 70,
   "id": "803932e1-58fc-4f2b-a7c8-d506b9fd2148",
   "metadata": {
    "deletable": false,
    "editable": false,
    "nbgrader": {
     "cell_type": "code",
     "checksum": "d87fe893862680eea8956fbabc735aba",
     "grade": false,
     "grade_id": "cell-d045b2a1b669e0a2",
     "locked": true,
     "schema_version": 3,
     "solution": false,
     "task": false
    }
   },
   "outputs": [
    {
     "name": "stdout",
     "output_type": "stream",
     "text": [
      "The gradient at (x,y)=(1 1) is given by [3. 3.]\n",
      "The Hessian matrix of f at (x,y)=(1 1) is given by [[2. 3.]\n",
      " [3. 6.]]\n"
     ]
    }
   ],
   "source": [
    "def func1(xy):\n",
    "    x = xy[0]\n",
    "    y= xy[1]\n",
    "    f = x**2+y**3*x\n",
    "    return f\n",
    "\n",
    "xy_values = [1,1]\n",
    "gradf = nd.Gradient(func1)(xy_values)\n",
    "Hessf = nd.Hessian(func1)(xy_values)\n",
    "\n",
    "print(f\"The gradient at (x,y)=({xy_values[0]} {xy_values[1]}) is given by\", gradf)\n",
    "print(f\"The Hessian matrix of f at (x,y)=({xy_values[0]} {xy_values[1]}) is given by\", Hessf)"
   ]
  },
  {
   "cell_type": "code",
   "execution_count": 71,
   "id": "fc636c1b",
   "metadata": {},
   "outputs": [
    {
     "data": {
      "text/plain": [
       "array([3., 3.])"
      ]
     },
     "execution_count": 71,
     "metadata": {},
     "output_type": "execute_result"
    }
   ],
   "source": [
    "nd.Gradient(func1)(xy_values)"
   ]
  },
  {
   "cell_type": "markdown",
   "id": "c25bf2a6-c493-4203-a1b5-ed77f4f8ec53",
   "metadata": {
    "deletable": false,
    "editable": false,
    "nbgrader": {
     "cell_type": "markdown",
     "checksum": "587f03dbe5174cff3c83c870fedda498",
     "grade": false,
     "grade_id": "cell-9544274ebe5ec4d8",
     "locked": true,
     "schema_version": 3,
     "solution": false,
     "task": false
    }
   },
   "source": [
    "#### **Exercise:** The sigmoid function as multivariate function\n",
    "Define $f:\\mathbb{R}^3\\rightarrow \\mathbb{R}$ by\n",
    "\n",
    "$$f(x,\\beta_1,\\beta_2)=\\frac{1}{1+e^{-\\beta_2(x-\\beta_1)}}.\n",
    "$$\n",
    "\n",
    "As a function of only the first entrance, you may recognize the so-called *sigmoid function*, which plays a central role in lots of practical applications ranging from logistic regression to neural networks.\n",
    "\n",
    "* Code the function $f$ and calculate the gradient of $f$ as a function of inputs $(x,\\beta_1,\\beta_2)$. \n",
    "* Use <code>nd.Hessian</code> to calculate $Hf(1,1,1)$\n",
    "* Calculate the eigenvalues of $Hf(1,1,1)$ using the appropriate numpy code."
   ]
  },
  {
   "cell_type": "code",
   "execution_count": 72,
   "id": "70990a80-d47e-4bf5-89ee-2c2f1e0c58b7",
   "metadata": {
    "deletable": false,
    "nbgrader": {
     "cell_type": "code",
     "checksum": "ccb7d4ca6a3668ca1b2dd8c3dbfb7bf1",
     "grade": false,
     "grade_id": "cell-d80e35de96681306",
     "locked": false,
     "schema_version": 3,
     "solution": true,
     "task": false
    }
   },
   "outputs": [
    {
     "data": {
      "text/plain": [
       "array([-3.53553391e-01,  1.46767008e-17,  3.53553391e-01])"
      ]
     },
     "execution_count": 72,
     "metadata": {},
     "output_type": "execute_result"
    }
   ],
   "source": [
    "## EXERCISE\n",
    "\n",
    "# define function fsig()\n",
    "#   input xbetavalues: (3,) array\n",
    "#   output function value f(xbetavalues)\n",
    "# define function fsig_grad()\n",
    "#   input xbetavalues: (3,) array\n",
    "#   output gradient of f evaluated at (x,beta1,beta2)\n",
    "\n",
    "# YOUR CODE HERE\n",
    "val=[1,1,1]\n",
    "def fsig(val): return 1/(1+np.exp(-val[2]*(val[0]-val[1])))\n",
    "def fsig_grad(val): return nd.Gradient(fsig)(val)\n",
    "H=nd.Hessian(fsig)(val)\n",
    "np.linalg.eigvals(H)\n"
   ]
  },
  {
   "cell_type": "code",
   "execution_count": 73,
   "id": "3f5ed772-1a94-418a-8310-2a8829720380",
   "metadata": {
    "deletable": false,
    "nbgrader": {
     "cell_type": "code",
     "checksum": "3e2b87d5c79115f684a430ae5c16ac11",
     "grade": false,
     "grade_id": "cell-78336a91ac515c1f",
     "locked": false,
     "schema_version": 3,
     "solution": true,
     "task": false
    }
   },
   "outputs": [
    {
     "data": {
      "text/plain": [
       "array([[-4.69401551e-17,  5.07493338e-17,  2.50000000e-01],\n",
       "       [ 5.07493338e-17, -1.20908320e-18, -2.50000000e-01],\n",
       "       [ 2.50000000e-01, -2.50000000e-01,  0.00000000e+00]])"
      ]
     },
     "execution_count": 73,
     "metadata": {},
     "output_type": "execute_result"
    }
   ],
   "source": [
    "# Calculate the Hessian matrix Hf(1,1,1) and its eigenvalues\n",
    "# YOUR CODE HERE\n",
    "H"
   ]
  },
  {
   "cell_type": "markdown",
   "id": "e4d3969c",
   "metadata": {
    "deletable": false,
    "editable": false,
    "nbgrader": {
     "cell_type": "markdown",
     "checksum": "f3aa633eef4ee5abc6ff19f9e76c6093",
     "grade": false,
     "grade_id": "cell-35d8b0031e07254b",
     "locked": true,
     "schema_version": 3,
     "solution": false,
     "task": false
    }
   },
   "source": [
    "Did you get the following answers?"
   ]
  },
  {
   "cell_type": "code",
   "execution_count": 74,
   "id": "009ef290",
   "metadata": {
    "deletable": false,
    "editable": false,
    "nbgrader": {
     "cell_type": "code",
     "checksum": "e9f109865f2c737b8fd95d1d8078ac3b",
     "grade": false,
     "grade_id": "cell-3d018490340253b1",
     "locked": true,
     "schema_version": 3,
     "solution": false,
     "task": false
    }
   },
   "outputs": [],
   "source": [
    "\n",
    "#The Hessian matrix at [1,1,1] is\n",
    "\n",
    "ans1=np.array([[-4.69401551e-17 , 5.07493338e-17,  2.50000000e-01],\n",
    "                [ 5.07493338e-17 ,-1.20908320e-18, -2.50000000e-01],\n",
    "                [ 2.50000000e-01 ,-2.50000000e-01 , 0.00000000e+00]])\n",
    "\n",
    "#Eigenvalues are given by\n",
    "\n",
    "ans2=np.array([-1.2090832e-18,1])"
   ]
  },
  {
   "cell_type": "code",
   "execution_count": 75,
   "id": "d1c9f1a5",
   "metadata": {},
   "outputs": [
    {
     "data": {
      "text/plain": [
       "True"
      ]
     },
     "execution_count": 75,
     "metadata": {},
     "output_type": "execute_result"
    }
   ],
   "source": [
    "np.allclose(H,ans1)\n"
   ]
  },
  {
   "cell_type": "markdown",
   "id": "a622a708-b893-47e0-b3d2-ee8afd8a9584",
   "metadata": {
    "deletable": false,
    "editable": false,
    "nbgrader": {
     "cell_type": "markdown",
     "checksum": "f8f96814efee590bd342a531c946998c",
     "grade": false,
     "grade_id": "cell-d1007d7c0eb2bf24",
     "locked": true,
     "schema_version": 3,
     "solution": false,
     "task": false
    }
   },
   "source": [
    "#### Exercise: the chain rule\n",
    "Now look at the function\n",
    "\n",
    "$$h(x)=\\frac{1}{1+e^{-x}}.\n",
    "$$\n",
    "look at the composite function ${h}\\circ g$ where  \n",
    "$g:\\mathbb{R}^3\\times \\mathbb{R}\\rightarrow \\mathbb{R}$ is given by\n",
    "$$g(a,b)=\\tanh(a\\cdot y+b)\n",
    "$$\n",
    "where $y=\\begin{pmatrix} 1\\\\\n",
    "2\\\\\n",
    "3\\end{pmatrix}$.\n",
    "\n",
    "Use <code>numdifftools</code> to calculate numerically $D (h\\circ g)$\n",
    "* directly by differentiation of the composite function $h\\circ g$, and\n",
    "* indirectly, using the chain rule for differentiation -- and thus expressions for $Dh$ and $Dg$\n",
    "* Does this function have stationary points?"
   ]
  },
  {
   "cell_type": "code",
   "execution_count": 76,
   "id": "101cc9e6-d6e6-403b-b89d-04b5325fcfde",
   "metadata": {
    "deletable": false,
    "nbgrader": {
     "cell_type": "code",
     "checksum": "eb0e8cbc05d585a3fcfc11080b56a4ed",
     "grade": false,
     "grade_id": "cell-48ef54f419a6ad67",
     "locked": false,
     "schema_version": 3,
     "solution": true,
     "task": false
    }
   },
   "outputs": [],
   "source": [
    "def hfunc(x):\n",
    "    return fsig([x,1,1])\n",
    "\n",
    "# Define function gfunc(abvalues)\n",
    "# input (4,) array\n",
    "# output function value\n",
    "\n",
    "# YOUR CODE HERE\n",
    "y=[1,2,3]\n",
    "def gfunc(ab: np.array)-> float : return np.tanh(np.dot(ab[0:3],y)+ab[-1])\n",
    "\n",
    "def hgfunc(vals): return hfunc(gfunc(vals))"
   ]
  },
  {
   "cell_type": "code",
   "execution_count": null,
   "id": "638b38f0",
   "metadata": {},
   "outputs": [],
   "source": []
  },
  {
   "cell_type": "code",
   "execution_count": 77,
   "id": "111a8d39",
   "metadata": {
    "deletable": false,
    "nbgrader": {
     "cell_type": "code",
     "checksum": "0fd4e28172bd24b0a4fb5c17b90bef14",
     "grade": false,
     "grade_id": "cell-1d5b831fb8916553",
     "locked": false,
     "schema_version": 3,
     "solution": true,
     "task": false
    }
   },
   "outputs": [
    {
     "data": {
      "text/plain": [
       "array([0.02587129, 0.05174258, 0.07761386, 0.02587129])"
      ]
     },
     "execution_count": 77,
     "metadata": {},
     "output_type": "execute_result"
    }
   ],
   "source": [
    "# Define composite function hgfunc\n",
    "# Calculate the derivative of hgfunc in [.01,.02,.03,.04] as Dhg([.01,.02,.03,.04])\n",
    "# Calculate the derivative of hgfunc in [1,2,3,4] as Dhg([1,2,3,4])\n",
    "\n",
    "# YOUR CODE HERE\n",
    "Dhg= nd.Gradient(hgfunc)\n",
    "Dhg([0.1,0.2,0.3,0.4])"
   ]
  },
  {
   "cell_type": "code",
   "execution_count": 78,
   "id": "7cefb0bd",
   "metadata": {
    "deletable": false,
    "nbgrader": {
     "cell_type": "code",
     "checksum": "e6e9a04b1a9bbecd531c603c595d43a3",
     "grade": false,
     "grade_id": "cell-535512b8e3deec3a",
     "locked": false,
     "schema_version": 3,
     "solution": true,
     "task": false
    }
   },
   "outputs": [
    {
     "data": {
      "text/plain": [
       "array([0.20538716, 0.41077432, 0.61616147, 0.20538716])"
      ]
     },
     "execution_count": 78,
     "metadata": {},
     "output_type": "execute_result"
    }
   ],
   "source": [
    "Dhfunc = nd.Derivative(hfunc)\n",
    "Dgfunc = nd.Gradient(gfunc)\n",
    "\n",
    "# Define function chaindiff which calculates the derivative using the chain rule\n",
    "# YOUR CODE HERE\n",
    "def chaindiff(vals): return Dhfunc(gfunc(vals))*Dgfunc(vals)\n",
    "\n",
    "#check your answer!\n",
    "chaindiff([.01,.02,.03,.04])"
   ]
  },
  {
   "cell_type": "markdown",
   "id": "3fbc01ec",
   "metadata": {
    "deletable": false,
    "editable": false,
    "nbgrader": {
     "cell_type": "markdown",
     "checksum": "12d6107d4bf55a69a5121234447e05cd",
     "grade": false,
     "grade_id": "cell-0c86f3e668ad2adf",
     "locked": true,
     "schema_version": 3,
     "solution": false,
     "task": false
    }
   },
   "source": [
    "#### *Example 2.2:*  Jacobians\n",
    "Look at the code below, what is it doing?"
   ]
  },
  {
   "cell_type": "code",
   "execution_count": 79,
   "id": "e1569e48-6a5a-4bcc-9dee-2a349347daa5",
   "metadata": {
    "deletable": false,
    "editable": false,
    "nbgrader": {
     "cell_type": "code",
     "checksum": "4789f3872da178ec1c62802d1d9a416a",
     "grade": false,
     "grade_id": "cell-25f8c4fdd60b4d2a",
     "locked": true,
     "schema_version": 3,
     "solution": false,
     "task": false
    }
   },
   "outputs": [
    {
     "name": "stdout",
     "output_type": "stream",
     "text": [
      "[[ 1.          1.          3.14159265]\n",
      " [-1.68294197  5.43656366  2.        ]]\n"
     ]
    }
   ],
   "source": [
    "# What is happening here?\n",
    "func = lambda x: np.vstack((x[0]*x[1]+np.pi*x[2],np.cos(x[0]**2)+np.exp(x[1]**2)+x[2]**2))\n",
    "jfunc = nd.Jacobian(func)\n",
    "\n",
    "numpy_jacobianf = np.array(jfunc([1,1,1]))\n",
    "numpy_jacobianf1 = numpy_jacobianf[:,:,0]\n",
    "print(numpy_jacobianf1)\n"
   ]
  },
  {
   "cell_type": "markdown",
   "id": "5144ac0a-5736-4488-8db1-1141cfd5ad60",
   "metadata": {
    "deletable": false,
    "editable": false,
    "nbgrader": {
     "cell_type": "markdown",
     "checksum": "bf9424913c1598c5aa5f714f77090508",
     "grade": false,
     "grade_id": "cell-2c8658fe00455316",
     "locked": true,
     "schema_version": 3,
     "solution": false,
     "task": false
    }
   },
   "source": [
    "#### **Exercise**\n",
    "Consider the function\n",
    "\n",
    "$$ h(x,y,z)=\\begin{pmatrix}\n",
    "xy+z\\\\\n",
    "x^2+y^2+\\tanh(z^2)\n",
    "\\end{pmatrix}\n",
    "$$\n",
    "\n",
    "Create a function <code>hjac</code> that calculates the Jacobian of $h$ at given values $(x,y,z)\\in\\mathbb{R}^3$.\n",
    "\n",
    "You may want to try <code>help(nd.Jacobian)</code>."
   ]
  },
  {
   "cell_type": "code",
   "execution_count": 80,
   "id": "10968c48-0471-4a11-aff1-ad6192bc98bb",
   "metadata": {
    "deletable": false,
    "editable": false,
    "nbgrader": {
     "cell_type": "code",
     "checksum": "689a72fc77d814eb14374d14686bf421",
     "grade": false,
     "grade_id": "cell-20e38b042fe9a6c9",
     "locked": true,
     "schema_version": 3,
     "solution": false,
     "task": false
    }
   },
   "outputs": [
    {
     "name": "stdout",
     "output_type": "stream",
     "text": [
      "Help on class Jacobian in module numdifftools.core:\n",
      "\n",
      "class Jacobian(Derivative)\n",
      " |  Jacobian(fun, step=None, method='central', order=2, n=1, **options)\n",
      " |  \n",
      " |  Calculate Jacobian with finite difference approximation\n",
      " |  \n",
      " |  Parameters\n",
      " |  ----------\n",
      " |  fun : function\n",
      " |     function of one array fun(x, `*args`, `**kwds`)\n",
      " |  step : float, array-like or StepGenerator object, optional\n",
      " |      Defines the spacing used in the approximation.\n",
      " |      Default is MinStepGenerator(**step_options) if method in in ['complex', 'multicomplex'],\n",
      " |      otherwise\n",
      " |          MaxStepGenerator(**step_options)\n",
      " |      The results are extrapolated if the StepGenerator generate more than 3\n",
      " |      steps.\n",
      " |  method : {'central', 'complex', 'multicomplex', 'forward', 'backward'}\n",
      " |      defines the method used in the approximation\n",
      " |  order : int, optional\n",
      " |      defines the order of the error term in the Taylor approximation used.\n",
      " |      For 'central' and 'complex' methods, it must be an even number.\n",
      " |  richardson_terms: scalar integer, default 2.\n",
      " |      number of terms used in the Richardson extrapolation.\n",
      " |  full_output : bool, optional\n",
      " |      If `full_output` is False, only the derivative is returned.\n",
      " |      If `full_output` is True, then (der, r) is returned `der` is the\n",
      " |      derivative, and `r` is a Results object.\n",
      " |  **step_options:\n",
      " |      options to pass on to the XXXStepGenerator used.\n",
      " |  \n",
      " |  Methods\n",
      " |  -------\n",
      " |  __call__ : callable with the following parameters:\n",
      " |      x : array_like\n",
      " |          value at which function derivative is evaluated\n",
      " |      args : tuple\n",
      " |          Arguments for function `fun`.\n",
      " |      kwds : dict\n",
      " |          Keyword arguments for function `fun`.\n",
      " |  \n",
      " |  Returns\n",
      " |  -------\n",
      " |  jacob : array\n",
      " |      Jacobian\n",
      " |  \n",
      " |  Notes\n",
      " |  -----\n",
      " |  Complex methods are usually the most accurate provided the function to\n",
      " |  differentiate is analytic. The complex-step methods also requires fewer\n",
      " |  steps than the other methods and can work very close to the support of\n",
      " |  a function.\n",
      " |  The complex-step derivative has truncation error O(steps**2) for `n=1` and\n",
      " |  O(steps**4) for `n` larger, so truncation error can be eliminated by\n",
      " |  choosing steps to be very small.\n",
      " |  Especially the first order complex-step derivative avoids the problem of\n",
      " |  round-off error with small steps because there is no subtraction. However,\n",
      " |  this method fails if fun(x) does not support complex numbers or involves\n",
      " |  non-analytic functions such as e.g.: abs, max, min.\n",
      " |  Central difference methods are almost as accurate and has no restriction on\n",
      " |  type of function. For this reason the 'central' method is the default\n",
      " |  method, but sometimes one can only allow evaluation in forward or backward\n",
      " |  direction.\n",
      " |  \n",
      " |  For all methods one should be careful in decreasing the step size too much\n",
      " |  due to round-off errors.\n",
      " |  \n",
      " |  Higher order approximation methods will generally be more accurate, but may\n",
      " |  also suffer more from numerical problems. First order methods is usually\n",
      " |  not recommended.\n",
      " |  \n",
      " |  If fun returns a 1d array, it returns a Jacobian. If a 2d array is returned\n",
      " |  by fun (e.g., with a value for each observation), it returns a 3d array\n",
      " |  with the Jacobian of each observation with shape xk x nobs x xk. I.e.,\n",
      " |  the Jacobian of the first observation would be [:, 0, :]\n",
      " |  \n",
      " |  References\n",
      " |  ----------\n",
      " |  Ridout, M.S. (2009) Statistical applications of the complex-step method\n",
      " |      of numerical differentiation. The American Statistician, 63, 66-74\n",
      " |  \n",
      " |  K.-L. Lai, J.L. Crassidis, Y. Cheng, J. Kim (2005), New complex step\n",
      " |      derivative approximations with application to second-order\n",
      " |      kalman filtering, AIAA Guidance, Navigation and Control Conference,\n",
      " |      San Francisco, California, August 2005, AIAA-2005-5944.\n",
      " |  \n",
      " |  Lyness, J. M., Moler, C. B. (1966). Vandermonde Systems and Numerical\n",
      " |                   Differentiation. *Numerische Mathematik*.\n",
      " |  \n",
      " |  Lyness, J. M., Moler, C. B. (1969). Generalized Romberg Methods for\n",
      " |                   Integrals of Derivatives. *Numerische Mathematik*.\n",
      " |  \n",
      " |  Examples\n",
      " |  --------\n",
      " |  >>> import numpy as np\n",
      " |  >>> import numdifftools as nd\n",
      " |  \n",
      " |  #(nonlinear least squares)\n",
      " |  \n",
      " |  >>> xdata = np.arange(0,1,0.1)\n",
      " |  >>> ydata = 1+2*np.exp(0.75*xdata)\n",
      " |  >>> fun = lambda c: (c[0]+c[1]*np.exp(c[2]*xdata) - ydata)**2\n",
      " |  >>> np.allclose(fun([1, 2, 0.75]).shape,  (10,))\n",
      " |  True\n",
      " |  \n",
      " |  >>> jfun = nd.Jacobian(fun)\n",
      " |  >>> val = jfun([1, 2, 0.75])\n",
      " |  >>> np.allclose(val, np.zeros((10,3)))\n",
      " |  True\n",
      " |  \n",
      " |  >>> fun2 = lambda x : x[0]*x[1]*x[2]**2\n",
      " |  >>> jfun2 = nd.Jacobian(fun2)\n",
      " |  >>> np.allclose(jfun2([1.,2.,3.]), [[18., 9., 12.]])\n",
      " |  True\n",
      " |  \n",
      " |  >>> fun3 = lambda x : np.vstack((x[0]*x[1]*x[2]**2, x[0]*x[1]*x[2]))\n",
      " |  >>> jfun3 = nd.Jacobian(fun3)\n",
      " |  \n",
      " |  >>> np.allclose(jfun3([1., 2., 3.]), [[[18.], [9.], [12.]], [[6.], [3.], [2.]]])\n",
      " |  True\n",
      " |  >>> np.allclose(jfun3([4., 5., 6.]), [[[180.], [144.], [240.]], [[30.], [24.], [20.]]])\n",
      " |  True\n",
      " |  >>> np.allclose(jfun3(np.array([[1.,2.,3.]]).T), [[[18.], [9.], [12.]], [[6.], [3.], [2.]]])\n",
      " |  True\n",
      " |  \n",
      " |  \n",
      " |  \n",
      " |  See also\n",
      " |  --------\n",
      " |  Derivative, Hessian, Gradient\n",
      " |  \n",
      " |  Method resolution order:\n",
      " |      Jacobian\n",
      " |      Derivative\n",
      " |      numdifftools.limits._Limit\n",
      " |      builtins.object\n",
      " |  \n",
      " |  Methods defined here:\n",
      " |  \n",
      " |  __call__(self, x, *args, **kwds)\n",
      " |      Call self as a function.\n",
      " |  \n",
      " |  ----------------------------------------------------------------------\n",
      " |  Methods inherited from Derivative:\n",
      " |  \n",
      " |  __init__(self, fun, step=None, method='central', order=2, n=1, **options)\n",
      " |      Initialize self.  See help(type(self)) for accurate signature.\n",
      " |  \n",
      " |  set_richardson_rule(self, step_ratio, num_terms=2)\n",
      " |      Set Richardson exptrapolation options\n",
      " |  \n",
      " |  ----------------------------------------------------------------------\n",
      " |  Readonly properties inherited from Derivative:\n",
      " |  \n",
      " |  method_order\n",
      " |      Defines the leading order of the error term in the Richardson extrapolation method.\n",
      " |  \n",
      " |  ----------------------------------------------------------------------\n",
      " |  Data descriptors inherited from Derivative:\n",
      " |  \n",
      " |  method\n",
      " |      Defines the method used in the finite difference approximation.\n",
      " |  \n",
      " |  n\n",
      " |      Order of the derivative.\n",
      " |  \n",
      " |  order\n",
      " |      Defines the order of the error term in the Taylor approximation used.\n",
      " |  \n",
      " |  ----------------------------------------------------------------------\n",
      " |  Data and other attributes inherited from Derivative:\n",
      " |  \n",
      " |  info = <class 'numdifftools.core.info'>\n",
      " |      info(f_value, error_estimate, final_step, index)\n",
      " |  \n",
      " |  \n",
      " |  ----------------------------------------------------------------------\n",
      " |  Data descriptors inherited from numdifftools.limits._Limit:\n",
      " |  \n",
      " |  __dict__\n",
      " |      dictionary for instance variables (if defined)\n",
      " |  \n",
      " |  __weakref__\n",
      " |      list of weak references to the object (if defined)\n",
      " |  \n",
      " |  step\n",
      " |      The step spacing(s) used in the approximation\n",
      "\n"
     ]
    }
   ],
   "source": [
    "help(nd.Jacobian)"
   ]
  },
  {
   "cell_type": "code",
   "execution_count": 81,
   "id": "04addf47-63dc-42f9-8491-3c5b9ee3ee11",
   "metadata": {
    "deletable": false,
    "nbgrader": {
     "cell_type": "code",
     "checksum": "aa9e00c694689f3c189bc8b96efa1b2a",
     "grade": false,
     "grade_id": "cell-d5befa37e5adf8be",
     "locked": false,
     "schema_version": 3,
     "solution": true,
     "task": false
    }
   },
   "outputs": [],
   "source": [
    "# Create function h\n",
    "# Create function hjac that returns the Jacobian of h as a matrix\n",
    "# Check your calculations using hjac([1,2,3])\n",
    "\n",
    "# YOUR CODE HERE\n",
    "hfunc= lambda vals: np.vstack((vals[0]*vals[1]+vals[2],vals[0]**2+vals[1]**2+np.tanh(vals[2]**2)))\n",
    "jac_h= nd.Jacobian(hfunc)"
   ]
  },
  {
   "cell_type": "code",
   "execution_count": 82,
   "id": "9ed0d637",
   "metadata": {},
   "outputs": [
    {
     "data": {
      "text/plain": [
       "array([[[2.00000000e+00],\n",
       "        [1.00000000e+00],\n",
       "        [1.00000000e+00]],\n",
       "\n",
       "       [[2.00000000e+00],\n",
       "        [4.00000000e+00],\n",
       "        [3.65519539e-07]]])"
      ]
     },
     "execution_count": 82,
     "metadata": {},
     "output_type": "execute_result"
    }
   ],
   "source": [
    "vals=np.array([1,2,3])\n",
    "jac_h(vals)"
   ]
  },
  {
   "cell_type": "markdown",
   "id": "bb4b1bc3",
   "metadata": {
    "deletable": false,
    "editable": false,
    "nbgrader": {
     "cell_type": "markdown",
     "checksum": "dc85c3f5a0f885c52f85c961678c1324",
     "grade": false,
     "grade_id": "cell-e61846b0dca068e4",
     "locked": true,
     "schema_version": 3,
     "solution": false,
     "task": false
    }
   },
   "source": [
    "Did you get the following answer?"
   ]
  },
  {
   "cell_type": "code",
   "execution_count": 87,
   "id": "88a90972",
   "metadata": {
    "deletable": false,
    "editable": false,
    "nbgrader": {
     "cell_type": "code",
     "checksum": "70de78bd263b54d96fa1a0f0fb3ed489",
     "grade": false,
     "grade_id": "cell-56b172a06b1d4676",
     "locked": true,
     "schema_version": 3,
     "solution": false,
     "task": false
    }
   },
   "outputs": [],
   "source": [
    "ans=np.array([[2.        , 1.        , 1.        ],\n",
    "       [2.        , 4.        , 0.00986604]])"
   ]
  }
 ],
 "metadata": {
  "kernelspec": {
   "display_name": "Python 3.9.12 ('base')",
   "language": "python",
   "name": "python3"
  },
  "language_info": {
   "codemirror_mode": {
    "name": "ipython",
    "version": 3
   },
   "file_extension": ".py",
   "mimetype": "text/x-python",
   "name": "python",
   "nbconvert_exporter": "python",
   "pygments_lexer": "ipython3",
   "version": "3.9.12"
  },
  "vscode": {
   "interpreter": {
    "hash": "b68ca19c0df0760c1787e20c3f0dd1e5f78c535cd246ff2eb4732394cfca7b12"
   }
  }
 },
 "nbformat": 4,
 "nbformat_minor": 5
}
